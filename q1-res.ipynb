{
  "cells": [
    {
      "cell_type": "markdown",
      "metadata": {
        "id": "ReS7sBqsTWqf"
      },
      "source": [
        "Import and read file"
      ]
    },
    {
      "cell_type": "code",
      "execution_count": 423,
      "metadata": {
        "id": "uAgTlS-STF-C"
      },
      "outputs": [],
      "source": [
        "import pandas as pd\n",
        "import numpy as np\n",
        "import seaborn as sns\n",
        "import matplotlib.pyplot as plt\n",
        "import plotly\n",
        "import plotly.graph_objs as go\n",
        "\n",
        "my_file = pd.read_csv('Data/Q1.csv')"
      ]
    },
    {
      "cell_type": "markdown",
      "metadata": {
        "id": "s_8pjFcxhrTF"
      },
      "source": [
        "Overveiw of data"
      ]
    },
    {
      "cell_type": "code",
      "execution_count": 424,
      "metadata": {
        "colab": {
          "base_uri": "https://localhost:8080/"
        },
        "id": "0PpiQoBKdJHB",
        "outputId": "ae88585d-a17e-4cb0-fb1d-602d7aaf9eeb"
      },
      "outputs": [
        {
          "name": "stdout",
          "output_type": "stream",
          "text": [
            "     Unnamed: 0        ID                                uni         DS  \\\n",
            "0             0  974285.0                  Shiraz UniVersity   4.613070   \n",
            "1             1  563921.0                                NaN        NaN   \n",
            "2             2  308307.0  Isfahan University of Tecchnology  14.193912   \n",
            "3             3       NaN                  Tabriz University  16.422105   \n",
            "4             4  570319.0                  Shiraz UniVersity  13.732369   \n",
            "..          ...       ...                                ...        ...   \n",
            "995         995  172539.0                  Tabriz University   9.730921   \n",
            "996         996  961616.0                  Tabriz University   6.493251   \n",
            "997         997  786197.0                  Tabriz University  17.084436   \n",
            "998         998  303940.0  Isfahan University of Tecchnology  16.178444   \n",
            "999         999  207017.0                  Shiraz UniVersity  16.039736   \n",
            "\n",
            "           ALG         ML         DL         DB         HW         OS  \\\n",
            "0    19.219966  13.777694   1.768949  12.918400  12.560763  17.544232   \n",
            "1    10.416559  10.294882  10.370097   0.236130   9.978527  16.255803   \n",
            "2    19.516232   8.193591   9.325052  19.036204   9.339919  13.861366   \n",
            "3     9.990100   5.491504   7.267110  14.041443   8.326088  15.791592   \n",
            "4     4.311718   8.025760   5.766623   8.488922   2.124606   4.632900   \n",
            "..         ...        ...        ...        ...        ...        ...   \n",
            "995  17.470765  19.294288  16.301405   4.573608   6.028361  13.684344   \n",
            "996   6.952239  13.344519   8.015453  15.575977   1.582926   0.905613   \n",
            "997   0.972353   6.509185   6.950973   7.454030   4.474244   5.517190   \n",
            "998   8.714763  16.791933   3.324486  17.783982   2.039068  19.632739   \n",
            "999   7.994951  11.779989  14.553102   3.254319   3.798225   4.805060   \n",
            "\n",
            "           NTW        DSP   STandLAL        prj  \n",
            "0     6.242864   1.286421  18.607406  57.462136  \n",
            "1    11.639155  17.540606   0.664260  52.820606  \n",
            "2    14.092048   1.233343   9.441342  67.046251  \n",
            "3     8.534165   9.126567   6.920051  55.419282  \n",
            "4    10.456614   7.636695  11.098141  43.273511  \n",
            "..         ...        ...        ...        ...  \n",
            "995  19.685871   2.519082   2.006657  67.847961  \n",
            "996  10.893735   1.590614   0.893256  39.338194  \n",
            "997  15.384763  13.402688   7.229975  48.368108  \n",
            "998  14.078977  16.461614   8.704414  60.021952  \n",
            "999  11.832766  19.701862   8.235519  57.331232  \n",
            "\n",
            "[1000 rows x 14 columns]\n"
          ]
        }
      ],
      "source": [
        "print(my_file)"
      ]
    },
    {
      "cell_type": "markdown",
      "metadata": {
        "id": "T9eXk1Lxtfi8"
      },
      "source": [
        "See how many NaN we have, they are not a lot so we can replace them by mean or mode\n",
        ", We should remove 2 prj which have missing values"
      ]
    },
    {
      "cell_type": "code",
      "execution_count": 425,
      "metadata": {
        "colab": {
          "base_uri": "https://localhost:8080/",
          "height": 381
        },
        "id": "HgIkKpm8vFMc",
        "outputId": "e1a493f0-2d6a-461f-8619-d41622c2f208"
      },
      "outputs": [
        {
          "data": {
            "text/html": [
              "<div>\n",
              "<style scoped>\n",
              "    .dataframe tbody tr th:only-of-type {\n",
              "        vertical-align: middle;\n",
              "    }\n",
              "\n",
              "    .dataframe tbody tr th {\n",
              "        vertical-align: top;\n",
              "    }\n",
              "\n",
              "    .dataframe thead th {\n",
              "        text-align: right;\n",
              "    }\n",
              "</style>\n",
              "<table border=\"1\" class=\"dataframe\">\n",
              "  <thead>\n",
              "    <tr style=\"text-align: right;\">\n",
              "      <th></th>\n",
              "      <th>Unnamed: 0</th>\n",
              "      <th>ID</th>\n",
              "      <th>DS</th>\n",
              "      <th>ALG</th>\n",
              "      <th>ML</th>\n",
              "      <th>DL</th>\n",
              "      <th>DB</th>\n",
              "      <th>HW</th>\n",
              "      <th>OS</th>\n",
              "      <th>NTW</th>\n",
              "      <th>DSP</th>\n",
              "      <th>STandLAL</th>\n",
              "      <th>prj</th>\n",
              "    </tr>\n",
              "  </thead>\n",
              "  <tbody>\n",
              "    <tr>\n",
              "      <th>count</th>\n",
              "      <td>1000.000000</td>\n",
              "      <td>981.000000</td>\n",
              "      <td>984.000000</td>\n",
              "      <td>990.000000</td>\n",
              "      <td>999.000000</td>\n",
              "      <td>999.000000</td>\n",
              "      <td>999.000000</td>\n",
              "      <td>997.000000</td>\n",
              "      <td>976.000000</td>\n",
              "      <td>999.000000</td>\n",
              "      <td>999.000000</td>\n",
              "      <td>998.000000</td>\n",
              "      <td>998.000000</td>\n",
              "    </tr>\n",
              "    <tr>\n",
              "      <th>mean</th>\n",
              "      <td>499.500000</td>\n",
              "      <td>569268.443425</td>\n",
              "      <td>9.984155</td>\n",
              "      <td>10.047551</td>\n",
              "      <td>9.727086</td>\n",
              "      <td>9.779337</td>\n",
              "      <td>10.254198</td>\n",
              "      <td>10.158961</td>\n",
              "      <td>10.148638</td>\n",
              "      <td>10.100439</td>\n",
              "      <td>9.945472</td>\n",
              "      <td>10.300665</td>\n",
              "      <td>56.323630</td>\n",
              "    </tr>\n",
              "    <tr>\n",
              "      <th>std</th>\n",
              "      <td>288.819436</td>\n",
              "      <td>259256.995545</td>\n",
              "      <td>5.727724</td>\n",
              "      <td>5.812078</td>\n",
              "      <td>5.695726</td>\n",
              "      <td>5.846354</td>\n",
              "      <td>5.838761</td>\n",
              "      <td>7.433685</td>\n",
              "      <td>6.810457</td>\n",
              "      <td>5.639146</td>\n",
              "      <td>5.801700</td>\n",
              "      <td>5.807904</td>\n",
              "      <td>11.470323</td>\n",
              "    </tr>\n",
              "    <tr>\n",
              "      <th>min</th>\n",
              "      <td>0.000000</td>\n",
              "      <td>111180.000000</td>\n",
              "      <td>0.011261</td>\n",
              "      <td>0.055391</td>\n",
              "      <td>0.028951</td>\n",
              "      <td>0.020001</td>\n",
              "      <td>0.000727</td>\n",
              "      <td>-7.390506</td>\n",
              "      <td>-17.611152</td>\n",
              "      <td>0.013312</td>\n",
              "      <td>-9.800960</td>\n",
              "      <td>0.001724</td>\n",
              "      <td>17.717730</td>\n",
              "    </tr>\n",
              "    <tr>\n",
              "      <th>25%</th>\n",
              "      <td>249.750000</td>\n",
              "      <td>346820.000000</td>\n",
              "      <td>4.981140</td>\n",
              "      <td>5.038920</td>\n",
              "      <td>4.825376</td>\n",
              "      <td>4.875101</td>\n",
              "      <td>5.295533</td>\n",
              "      <td>5.052606</td>\n",
              "      <td>5.086393</td>\n",
              "      <td>5.512367</td>\n",
              "      <td>5.046048</td>\n",
              "      <td>5.195095</td>\n",
              "      <td>48.375255</td>\n",
              "    </tr>\n",
              "    <tr>\n",
              "      <th>50%</th>\n",
              "      <td>499.500000</td>\n",
              "      <td>582333.000000</td>\n",
              "      <td>10.042576</td>\n",
              "      <td>9.916143</td>\n",
              "      <td>9.757582</td>\n",
              "      <td>9.763266</td>\n",
              "      <td>9.968018</td>\n",
              "      <td>9.798136</td>\n",
              "      <td>10.373245</td>\n",
              "      <td>10.097890</td>\n",
              "      <td>9.886944</td>\n",
              "      <td>10.275844</td>\n",
              "      <td>55.968790</td>\n",
              "    </tr>\n",
              "    <tr>\n",
              "      <th>75%</th>\n",
              "      <td>749.250000</td>\n",
              "      <td>793472.000000</td>\n",
              "      <td>14.844925</td>\n",
              "      <td>15.104702</td>\n",
              "      <td>14.390722</td>\n",
              "      <td>14.440130</td>\n",
              "      <td>15.424893</td>\n",
              "      <td>15.105341</td>\n",
              "      <td>15.139300</td>\n",
              "      <td>15.068596</td>\n",
              "      <td>15.068522</td>\n",
              "      <td>15.398239</td>\n",
              "      <td>63.836599</td>\n",
              "    </tr>\n",
              "    <tr>\n",
              "      <th>max</th>\n",
              "      <td>999.000000</td>\n",
              "      <td>998396.000000</td>\n",
              "      <td>19.974687</td>\n",
              "      <td>19.994559</td>\n",
              "      <td>19.971160</td>\n",
              "      <td>55.236815</td>\n",
              "      <td>19.997719</td>\n",
              "      <td>114.879538</td>\n",
              "      <td>113.497786</td>\n",
              "      <td>19.943678</td>\n",
              "      <td>19.938449</td>\n",
              "      <td>19.941939</td>\n",
              "      <td>91.853542</td>\n",
              "    </tr>\n",
              "  </tbody>\n",
              "</table>\n",
              "</div>"
            ],
            "text/plain": [
              "        Unnamed: 0             ID          DS         ALG          ML  \\\n",
              "count  1000.000000     981.000000  984.000000  990.000000  999.000000   \n",
              "mean    499.500000  569268.443425    9.984155   10.047551    9.727086   \n",
              "std     288.819436  259256.995545    5.727724    5.812078    5.695726   \n",
              "min       0.000000  111180.000000    0.011261    0.055391    0.028951   \n",
              "25%     249.750000  346820.000000    4.981140    5.038920    4.825376   \n",
              "50%     499.500000  582333.000000   10.042576    9.916143    9.757582   \n",
              "75%     749.250000  793472.000000   14.844925   15.104702   14.390722   \n",
              "max     999.000000  998396.000000   19.974687   19.994559   19.971160   \n",
              "\n",
              "               DL          DB          HW          OS         NTW         DSP  \\\n",
              "count  999.000000  999.000000  997.000000  976.000000  999.000000  999.000000   \n",
              "mean     9.779337   10.254198   10.158961   10.148638   10.100439    9.945472   \n",
              "std      5.846354    5.838761    7.433685    6.810457    5.639146    5.801700   \n",
              "min      0.020001    0.000727   -7.390506  -17.611152    0.013312   -9.800960   \n",
              "25%      4.875101    5.295533    5.052606    5.086393    5.512367    5.046048   \n",
              "50%      9.763266    9.968018    9.798136   10.373245   10.097890    9.886944   \n",
              "75%     14.440130   15.424893   15.105341   15.139300   15.068596   15.068522   \n",
              "max     55.236815   19.997719  114.879538  113.497786   19.943678   19.938449   \n",
              "\n",
              "         STandLAL         prj  \n",
              "count  998.000000  998.000000  \n",
              "mean    10.300665   56.323630  \n",
              "std      5.807904   11.470323  \n",
              "min      0.001724   17.717730  \n",
              "25%      5.195095   48.375255  \n",
              "50%     10.275844   55.968790  \n",
              "75%     15.398239   63.836599  \n",
              "max     19.941939   91.853542  "
            ]
          },
          "execution_count": 425,
          "metadata": {},
          "output_type": "execute_result"
        }
      ],
      "source": [
        "my_file.describe()"
      ]
    },
    {
      "cell_type": "markdown",
      "metadata": {
        "id": "G0WyLLfnzpmx"
      },
      "source": [
        "How many Outlier data each column has\n",
        ", they are not a lot we can remove each row"
      ]
    },
    {
      "cell_type": "code",
      "execution_count": 426,
      "metadata": {
        "colab": {
          "base_uri": "https://localhost:8080/"
        },
        "id": "f5XP_NkUvCL8",
        "outputId": "d46fb9c7-62d6-44a8-8a14-472e5f090688"
      },
      "outputs": [
        {
          "name": "stdout",
          "output_type": "stream",
          "text": [
            "4 ALG\n",
            "0\n",
            "5 ML\n",
            "0\n",
            "6 DL\n",
            "1\n",
            "7 DB\n",
            "0\n",
            "8 HW\n",
            "3\n",
            "9 OS\n",
            "6\n",
            "10 NTW\n",
            "0\n",
            "11 DSP\n",
            "1\n",
            "12 STandLAL\n",
            "0\n",
            "13 prj\n",
            "0\n"
          ]
        }
      ],
      "source": [
        "clmn = my_file.columns.values\n",
        "for i in range(4,len(clmn)-1):\n",
        "  print(i,clmn[i])\n",
        "  tmp = my_file[clmn[i]].loc[(my_file[clmn[i]] > 20) | (my_file[clmn[i]] < 0)]\n",
        "  print(tmp.count())\n",
        "print(13,'prj')\n",
        "tmp = my_file['prj'].loc[(my_file['prj'] > 100) | (my_file['prj'] < 0)]\n",
        "print(tmp.count())"
      ]
    },
    {
      "cell_type": "markdown",
      "metadata": {
        "id": "nlgO5X4_91EC"
      },
      "source": [
        "See how many NaN there is, we will fill others with mean or mod , and delete 2 missing in prj because they are in our result should be real"
      ]
    },
    {
      "cell_type": "code",
      "execution_count": 427,
      "metadata": {
        "colab": {
          "base_uri": "https://localhost:8080/"
        },
        "id": "3P8FFJ2CtmLF",
        "outputId": "dad2091f-a66d-45f7-fc29-17e06b67bb17"
      },
      "outputs": [
        {
          "data": {
            "text/plain": [
              "Unnamed: 0     0\n",
              "ID            19\n",
              "uni           36\n",
              "DS            16\n",
              "ALG           10\n",
              "ML             1\n",
              "DL             1\n",
              "DB             1\n",
              "HW             3\n",
              "OS            24\n",
              "NTW            1\n",
              "DSP            1\n",
              "STandLAL       2\n",
              "prj            2\n",
              "dtype: int64"
            ]
          },
          "execution_count": 427,
          "metadata": {},
          "output_type": "execute_result"
        }
      ],
      "source": [
        "my_file.isna().sum()"
      ]
    },
    {
      "cell_type": "markdown",
      "metadata": {
        "id": "KUTupEXXiSKU"
      },
      "source": [
        "Delete row which there is NaN in prj"
      ]
    },
    {
      "cell_type": "code",
      "execution_count": 428,
      "metadata": {
        "id": "V1QkpPaQteDg"
      },
      "outputs": [],
      "source": [
        "my_file.dropna( subset=[\"prj\"], inplace=True)"
      ]
    },
    {
      "cell_type": "markdown",
      "metadata": {
        "id": "dzfcEYXXSccz"
      },
      "source": [
        "Replace all values with abbreviation and missing values with mode"
      ]
    },
    {
      "cell_type": "code",
      "execution_count": 429,
      "metadata": {
        "colab": {
          "base_uri": "https://localhost:8080/"
        },
        "id": "K-truW-UXlCH",
        "outputId": "78812910-328a-44d8-c4b5-ba62c6ea6bec"
      },
      "outputs": [
        {
          "data": {
            "text/plain": [
              "0                      Shiraz UniVersity\n",
              "1                                    NaN\n",
              "2      Isfahan University of Tecchnology\n",
              "3                      Tabriz University\n",
              "4                      Shiraz UniVersity\n",
              "                     ...                \n",
              "995                    Tabriz University\n",
              "996                    Tabriz University\n",
              "997                    Tabriz University\n",
              "998    Isfahan University of Tecchnology\n",
              "999                    Shiraz UniVersity\n",
              "Name: uni, Length: 998, dtype: object"
            ]
          },
          "execution_count": 429,
          "metadata": {},
          "output_type": "execute_result"
        }
      ],
      "source": [
        "my_file['uni']"
      ]
    },
    {
      "cell_type": "markdown",
      "metadata": {},
      "source": [
        "Obtain mode"
      ]
    },
    {
      "cell_type": "code",
      "execution_count": 430,
      "metadata": {
        "colab": {
          "base_uri": "https://localhost:8080/"
        },
        "id": "Cwl-EblCX-3n",
        "outputId": "bab0fc9c-d771-466e-e986-041b273adaf4"
      },
      "outputs": [
        {
          "data": {
            "text/plain": [
              "0    Tabriz University\n",
              "dtype: object"
            ]
          },
          "execution_count": 430,
          "metadata": {},
          "output_type": "execute_result"
        }
      ],
      "source": [
        "my_file['uni'].mode()"
      ]
    },
    {
      "cell_type": "markdown",
      "metadata": {},
      "source": [
        "Do the fill missing values and replace university names with abbreviation"
      ]
    },
    {
      "cell_type": "code",
      "execution_count": 431,
      "metadata": {
        "colab": {
          "base_uri": "https://localhost:8080/"
        },
        "id": "8WUAMKmwL194",
        "outputId": "b024a962-6afe-4578-f98c-a1875703a382"
      },
      "outputs": [
        {
          "data": {
            "text/plain": [
              "0       su\n",
              "1       tu\n",
              "2      iut\n",
              "3       tu\n",
              "4       su\n",
              "      ... \n",
              "995     tu\n",
              "996     tu\n",
              "997     tu\n",
              "998    iut\n",
              "999     su\n",
              "Name: uni, Length: 998, dtype: object"
            ]
          },
          "execution_count": 431,
          "metadata": {},
          "output_type": "execute_result"
        }
      ],
      "source": [
        "my_file['uni'] = my_file['uni'].str.lower()\n",
        "\n",
        "my_file['uni'] = my_file['uni'].replace(to_replace = np.nan, value = 'tu')\n",
        "\n",
        "t = set()\n",
        "for i in my_file['uni'].dropna().values:\n",
        "  t.add(i)\n",
        "\n",
        "abbreviation = {'shiraz university':'su','ferdowsi university':'fu','isfahan university of technlolgy':'iut','tabriz university':'tu','isfahan university of tecchnology':'iut','azad university':'au','sharif university of technology':'sut','ferdowsi univesity':'fu','university of tehran':'ut','univesity of azarbaijan':'ua'}\n",
        "for i,j in abbreviation.items():\n",
        "  my_file['uni'] = my_file['uni'].replace(to_replace = i, value = j)\n",
        "my_file['uni']\n"
      ]
    },
    {
      "cell_type": "code",
      "execution_count": 432,
      "metadata": {
        "colab": {
          "base_uri": "https://localhost:8080/"
        },
        "id": "UsAn-WfUWlTx",
        "outputId": "8c2c0421-510a-4472-9f5e-c4b3e8d00513"
      },
      "outputs": [
        {
          "name": "stdout",
          "output_type": "stream",
          "text": [
            "     Unnamed: 0        ID  uni         DS        ALG         ML         DL  \\\n",
            "0             0  974285.0   su   4.613070  19.219966  13.777694   1.768949   \n",
            "1             1  563921.0   tu        NaN  10.416559  10.294882  10.370097   \n",
            "2             2  308307.0  iut  14.193912  19.516232   8.193591   9.325052   \n",
            "3             3       NaN   tu  16.422105   9.990100   5.491504   7.267110   \n",
            "4             4  570319.0   su  13.732369   4.311718   8.025760   5.766623   \n",
            "..          ...       ...  ...        ...        ...        ...        ...   \n",
            "995         995  172539.0   tu   9.730921  17.470765  19.294288  16.301405   \n",
            "996         996  961616.0   tu   6.493251   6.952239  13.344519   8.015453   \n",
            "997         997  786197.0   tu  17.084436   0.972353   6.509185   6.950973   \n",
            "998         998  303940.0  iut  16.178444   8.714763  16.791933   3.324486   \n",
            "999         999  207017.0   su  16.039736   7.994951  11.779989  14.553102   \n",
            "\n",
            "            DB         HW         OS        NTW        DSP   STandLAL  \\\n",
            "0    12.918400  12.560763  17.544232   6.242864   1.286421  18.607406   \n",
            "1     0.236130   9.978527  16.255803  11.639155  17.540606   0.664260   \n",
            "2    19.036204   9.339919  13.861366  14.092048   1.233343   9.441342   \n",
            "3    14.041443   8.326088  15.791592   8.534165   9.126567   6.920051   \n",
            "4     8.488922   2.124606   4.632900  10.456614   7.636695  11.098141   \n",
            "..         ...        ...        ...        ...        ...        ...   \n",
            "995   4.573608   6.028361  13.684344  19.685871   2.519082   2.006657   \n",
            "996  15.575977   1.582926   0.905613  10.893735   1.590614   0.893256   \n",
            "997   7.454030   4.474244   5.517190  15.384763  13.402688   7.229975   \n",
            "998  17.783982   2.039068  19.632739  14.078977  16.461614   8.704414   \n",
            "999   3.254319   3.798225   4.805060  11.832766  19.701862   8.235519   \n",
            "\n",
            "           prj  \n",
            "0    57.462136  \n",
            "1    52.820606  \n",
            "2    67.046251  \n",
            "3    55.419282  \n",
            "4    43.273511  \n",
            "..         ...  \n",
            "995  67.847961  \n",
            "996  39.338194  \n",
            "997  48.368108  \n",
            "998  60.021952  \n",
            "999  57.331232  \n",
            "\n",
            "[998 rows x 14 columns]\n"
          ]
        }
      ],
      "source": [
        "print(my_file)"
      ]
    },
    {
      "cell_type": "markdown",
      "metadata": {
        "id": "0NA8xOqHllg1"
      },
      "source": [
        "- Using heatmap and see correlations\n",
        "- all test scores exept DSP have high corrolation"
      ]
    },
    {
      "cell_type": "code",
      "execution_count": 433,
      "metadata": {
        "colab": {
          "base_uri": "https://localhost:8080/",
          "height": 1000
        },
        "id": "j07Auzg3iwJk",
        "outputId": "9e5e3c78-828e-4628-fb1b-a655e3223ce8"
      },
      "outputs": [
        {
          "data": {
            "image/png": "[encoded data removed]",
            "text/plain": [
              "<Figure size 2880x2880 with 2 Axes>"
            ]
          },
          "metadata": {
            "needs_background": "light"
          },
          "output_type": "display_data"
        }
      ],
      "source": [
        "corrmat = my_file.corr()\n",
        "plt.figure(figsize = (40,40))\n",
        "my_file[corrmat.index]\n",
        "g = sns.heatmap(my_file[corrmat.index].corr(), annot = True, cmap =\"RdYlGn\")"
      ]
    },
    {
      "cell_type": "markdown",
      "metadata": {},
      "source": [
        "See what column we have"
      ]
    },
    {
      "cell_type": "code",
      "execution_count": 434,
      "metadata": {},
      "outputs": [
        {
          "data": {
            "text/plain": [
              "Index(['Unnamed: 0', 'ID', 'uni', 'DS', 'ALG', 'ML', 'DL', 'DB', 'HW', 'OS',\n",
              "       'NTW', 'DSP', 'STandLAL', 'prj'],\n",
              "      dtype='object')"
            ]
          },
          "execution_count": 434,
          "metadata": {},
          "output_type": "execute_result"
        }
      ],
      "source": [
        "my_file.columns"
      ]
    },
    {
      "cell_type": "markdown",
      "metadata": {},
      "source": [
        "Drop useless column, index and id dont have meaning and value to calculate prj scores"
      ]
    },
    {
      "cell_type": "code",
      "execution_count": 435,
      "metadata": {},
      "outputs": [],
      "source": [
        "my_file = my_file.drop(columns= ['ID'])\n",
        "my_file = my_file.drop(columns= ['Unnamed: 0'])"
      ]
    },
    {
      "cell_type": "markdown",
      "metadata": {
        "id": "eiEdDsd2nw9x"
      },
      "source": [
        "We will drop some rows because outlier data"
      ]
    },
    {
      "cell_type": "code",
      "execution_count": 436,
      "metadata": {
        "id": "PS78lrb2nwjs"
      },
      "outputs": [],
      "source": [
        "for i in range(4,len(clmn)-1):\n",
        "  outlier = my_file[ (my_file[clmn[i]] > 20) | (my_file[clmn[i]] < 0) ].index\n",
        "  my_file.drop(outlier , inplace=True)"
      ]
    },
    {
      "cell_type": "markdown",
      "metadata": {},
      "source": [
        "Check the result, we got the goal"
      ]
    },
    {
      "cell_type": "code",
      "execution_count": 437,
      "metadata": {
        "colab": {
          "base_uri": "https://localhost:8080/",
          "height": 361
        },
        "id": "rkUgTy403CWw",
        "outputId": "e92d77a4-4c71-4342-9b64-8468c7d0a3c9"
      },
      "outputs": [
        {
          "data": {
            "text/html": [
              "<div>\n",
              "<style scoped>\n",
              "    .dataframe tbody tr th:only-of-type {\n",
              "        vertical-align: middle;\n",
              "    }\n",
              "\n",
              "    .dataframe tbody tr th {\n",
              "        vertical-align: top;\n",
              "    }\n",
              "\n",
              "    .dataframe thead th {\n",
              "        text-align: right;\n",
              "    }\n",
              "</style>\n",
              "<table border=\"1\" class=\"dataframe\">\n",
              "  <thead>\n",
              "    <tr style=\"text-align: right;\">\n",
              "      <th></th>\n",
              "      <th>DS</th>\n",
              "      <th>ALG</th>\n",
              "      <th>ML</th>\n",
              "      <th>DL</th>\n",
              "      <th>DB</th>\n",
              "      <th>HW</th>\n",
              "      <th>OS</th>\n",
              "      <th>NTW</th>\n",
              "      <th>DSP</th>\n",
              "      <th>STandLAL</th>\n",
              "      <th>prj</th>\n",
              "    </tr>\n",
              "  </thead>\n",
              "  <tbody>\n",
              "    <tr>\n",
              "      <th>count</th>\n",
              "      <td>971.000000</td>\n",
              "      <td>977.000000</td>\n",
              "      <td>986.000000</td>\n",
              "      <td>986.000000</td>\n",
              "      <td>986.000000</td>\n",
              "      <td>984.000000</td>\n",
              "      <td>964.000000</td>\n",
              "      <td>986.000000</td>\n",
              "      <td>986.000000</td>\n",
              "      <td>985.000000</td>\n",
              "      <td>987.000000</td>\n",
              "    </tr>\n",
              "    <tr>\n",
              "      <th>mean</th>\n",
              "      <td>9.966849</td>\n",
              "      <td>10.075314</td>\n",
              "      <td>9.716286</td>\n",
              "      <td>9.674316</td>\n",
              "      <td>10.258993</td>\n",
              "      <td>9.981654</td>\n",
              "      <td>10.067717</td>\n",
              "      <td>10.067850</td>\n",
              "      <td>9.967552</td>\n",
              "      <td>10.284636</td>\n",
              "      <td>56.246685</td>\n",
              "    </tr>\n",
              "    <tr>\n",
              "      <th>std</th>\n",
              "      <td>5.728549</td>\n",
              "      <td>5.801297</td>\n",
              "      <td>5.702812</td>\n",
              "      <td>5.661467</td>\n",
              "      <td>5.845100</td>\n",
              "      <td>5.806670</td>\n",
              "      <td>5.787721</td>\n",
              "      <td>5.627025</td>\n",
              "      <td>5.768847</td>\n",
              "      <td>5.808221</td>\n",
              "      <td>11.459484</td>\n",
              "    </tr>\n",
              "    <tr>\n",
              "      <th>min</th>\n",
              "      <td>0.011261</td>\n",
              "      <td>0.055391</td>\n",
              "      <td>0.028951</td>\n",
              "      <td>0.020001</td>\n",
              "      <td>0.000727</td>\n",
              "      <td>0.009763</td>\n",
              "      <td>0.012460</td>\n",
              "      <td>0.013312</td>\n",
              "      <td>0.012463</td>\n",
              "      <td>0.001724</td>\n",
              "      <td>17.717730</td>\n",
              "    </tr>\n",
              "    <tr>\n",
              "      <th>25%</th>\n",
              "      <td>4.978467</td>\n",
              "      <td>5.055205</td>\n",
              "      <td>4.820916</td>\n",
              "      <td>4.810443</td>\n",
              "      <td>5.289306</td>\n",
              "      <td>5.073061</td>\n",
              "      <td>5.091650</td>\n",
              "      <td>5.354773</td>\n",
              "      <td>5.079545</td>\n",
              "      <td>5.193003</td>\n",
              "      <td>48.354776</td>\n",
              "    </tr>\n",
              "    <tr>\n",
              "      <th>50%</th>\n",
              "      <td>9.972950</td>\n",
              "      <td>9.916884</td>\n",
              "      <td>9.729294</td>\n",
              "      <td>9.649257</td>\n",
              "      <td>9.961594</td>\n",
              "      <td>9.809230</td>\n",
              "      <td>10.364722</td>\n",
              "      <td>10.063276</td>\n",
              "      <td>9.887062</td>\n",
              "      <td>10.235203</td>\n",
              "      <td>55.838438</td>\n",
              "    </tr>\n",
              "    <tr>\n",
              "      <th>75%</th>\n",
              "      <td>14.848262</td>\n",
              "      <td>15.123785</td>\n",
              "      <td>14.392918</td>\n",
              "      <td>14.342194</td>\n",
              "      <td>15.488393</td>\n",
              "      <td>15.088615</td>\n",
              "      <td>15.101905</td>\n",
              "      <td>15.012361</td>\n",
              "      <td>15.069084</td>\n",
              "      <td>15.385390</td>\n",
              "      <td>63.801971</td>\n",
              "    </tr>\n",
              "    <tr>\n",
              "      <th>max</th>\n",
              "      <td>19.974687</td>\n",
              "      <td>19.994559</td>\n",
              "      <td>19.971160</td>\n",
              "      <td>19.980380</td>\n",
              "      <td>19.997719</td>\n",
              "      <td>19.978809</td>\n",
              "      <td>19.975692</td>\n",
              "      <td>19.943678</td>\n",
              "      <td>19.938449</td>\n",
              "      <td>19.941939</td>\n",
              "      <td>91.853542</td>\n",
              "    </tr>\n",
              "  </tbody>\n",
              "</table>\n",
              "</div>"
            ],
            "text/plain": [
              "               DS         ALG          ML          DL          DB          HW  \\\n",
              "count  971.000000  977.000000  986.000000  986.000000  986.000000  984.000000   \n",
              "mean     9.966849   10.075314    9.716286    9.674316   10.258993    9.981654   \n",
              "std      5.728549    5.801297    5.702812    5.661467    5.845100    5.806670   \n",
              "min      0.011261    0.055391    0.028951    0.020001    0.000727    0.009763   \n",
              "25%      4.978467    5.055205    4.820916    4.810443    5.289306    5.073061   \n",
              "50%      9.972950    9.916884    9.729294    9.649257    9.961594    9.809230   \n",
              "75%     14.848262   15.123785   14.392918   14.342194   15.488393   15.088615   \n",
              "max     19.974687   19.994559   19.971160   19.980380   19.997719   19.978809   \n",
              "\n",
              "               OS         NTW         DSP    STandLAL         prj  \n",
              "count  964.000000  986.000000  986.000000  985.000000  987.000000  \n",
              "mean    10.067717   10.067850    9.967552   10.284636   56.246685  \n",
              "std      5.787721    5.627025    5.768847    5.808221   11.459484  \n",
              "min      0.012460    0.013312    0.012463    0.001724   17.717730  \n",
              "25%      5.091650    5.354773    5.079545    5.193003   48.354776  \n",
              "50%     10.364722   10.063276    9.887062   10.235203   55.838438  \n",
              "75%     15.101905   15.012361   15.069084   15.385390   63.801971  \n",
              "max     19.975692   19.943678   19.938449   19.941939   91.853542  "
            ]
          },
          "execution_count": 437,
          "metadata": {},
          "output_type": "execute_result"
        }
      ],
      "source": [
        "my_file.describe()"
      ]
    },
    {
      "cell_type": "markdown",
      "metadata": {
        "id": "ja5FU3d7TVlh"
      },
      "source": [
        "x and y extraction ,number and id and uni column are not selected in x because there is no relation between those and other numerical data ,and select prj as y"
      ]
    },
    {
      "cell_type": "code",
      "execution_count": 438,
      "metadata": {
        "id": "pmZOY_w0XVwG"
      },
      "outputs": [],
      "source": [
        "x = my_file.iloc[:, :-1].values\n",
        "y = my_file.iloc[:, -1].values"
      ]
    },
    {
      "cell_type": "markdown",
      "metadata": {
        "id": "LRgtIsiHVcIQ"
      },
      "source": [
        "Encode categorical data"
      ]
    },
    {
      "cell_type": "code",
      "execution_count": 439,
      "metadata": {
        "colab": {
          "base_uri": "https://localhost:8080/"
        },
        "id": "zcLuY7zRVaNx",
        "outputId": "ae3177b9-9aac-446c-90a8-8638007769f8"
      },
      "outputs": [
        {
          "name": "stdout",
          "output_type": "stream",
          "text": [
            "[[0.0 0.0 0.0 ... 6.24286434983884 1.28642149444959 18.6074056971013]\n",
            " [0.0 0.0 0.0 ... 11.6391549310015 17.5406063052621 0.664260107728969]\n",
            " [0.0 0.0 0.0 ... 14.0920475442558 1.23334260880971 9.4413416953742]\n",
            " ...\n",
            " [0.0 0.0 0.0 ... 15.3847631412536 13.4026884486101 7.22997476892227]\n",
            " [0.0 0.0 0.0 ... 14.0789766425468 16.4616141068757 8.70441364038658]\n",
            " [0.0 0.0 0.0 ... 11.8327661730584 19.7018623121537 8.235518615932]]\n"
          ]
        }
      ],
      "source": [
        "from sklearn.compose import ColumnTransformer\n",
        "from sklearn.preprocessing import OneHotEncoder\n",
        "ct = ColumnTransformer(transformers=[('encoder', OneHotEncoder(), [0])], remainder='passthrough')\n",
        "x = np.array(ct.fit_transform(x))\n",
        "print(x)"
      ]
    },
    {
      "cell_type": "markdown",
      "metadata": {
        "id": "HFfDtO7JkymC"
      },
      "source": [
        "Split test and train ( no Feature scaling needed cz all values are similar and not far away )"
      ]
    },
    {
      "cell_type": "code",
      "execution_count": 440,
      "metadata": {
        "id": "Wuglca6fZYEa"
      },
      "outputs": [],
      "source": [
        "from pandas.core.common import random_state\n",
        "from sklearn.model_selection import train_test_split\n",
        "x_train, x_test, y_train, y_test = train_test_split(x, y, test_size = 0.2, random_state = 98)"
      ]
    },
    {
      "cell_type": "markdown",
      "metadata": {
        "id": "6kTeUqnE6cub"
      },
      "source": [
        "Fill NaN for numerical values, we can do it with mean or mod, we have done it with mean, we do it after splitting because dont want to our test be affected by our train"
      ]
    },
    {
      "cell_type": "code",
      "execution_count": 441,
      "metadata": {
        "id": "huviy6yM6bCs"
      },
      "outputs": [],
      "source": [
        "from sklearn.impute import SimpleImputer\n",
        "imputer = SimpleImputer(missing_values=np.nan, strategy='mean')\n",
        "imputer2 = SimpleImputer(missing_values=np.nan, strategy='mean')\n",
        "imputer.fit(x_train[:, :])\n",
        "imputer2.fit(x_test[:, :])\n",
        "x_train[:, :] = imputer.transform(x_train[:, :])\n",
        "x_test[:, :] = imputer.transform(x_test[:, :])"
      ]
    },
    {
      "cell_type": "markdown",
      "metadata": {
        "id": "OrKFMHtAm_I4"
      },
      "source": [
        "Do Random Forest process, cz multi dimention and high accuracy"
      ]
    },
    {
      "cell_type": "code",
      "execution_count": 442,
      "metadata": {
        "colab": {
          "base_uri": "https://localhost:8080/"
        },
        "id": "FCYyV-kNm_dS",
        "outputId": "a91e9844-2877-4cf9-da12-6312b91dd6d0"
      },
      "outputs": [
        {
          "data": {
            "text/plain": [
              "RandomForestRegressor(n_estimators=10, random_state=98)"
            ]
          },
          "execution_count": 442,
          "metadata": {},
          "output_type": "execute_result"
        }
      ],
      "source": [
        "from sklearn.ensemble import RandomForestRegressor\n",
        "regressor1 = RandomForestRegressor(n_estimators = 10, random_state = 98)\n",
        "regressor1.fit(x_train, y_train)"
      ]
    },
    {
      "cell_type": "markdown",
      "metadata": {
        "id": "UxZVDh9SnbWx"
      },
      "source": [
        "Predict the test and see the result"
      ]
    },
    {
      "cell_type": "code",
      "execution_count": 443,
      "metadata": {
        "colab": {
          "base_uri": "https://localhost:8080/"
        },
        "id": "7QiJsw3LnbzI",
        "outputId": "0d07f308-03d5-4a4d-997d-459b8ae74d99"
      },
      "outputs": [
        {
          "name": "stdout",
          "output_type": "stream",
          "text": [
            "[[62.5  62.26]\n",
            " [57.76 58.55]\n",
            " [68.64 78.17]\n",
            " [70.97 72.13]\n",
            " [51.78 58.5 ]\n",
            " [51.83 54.54]\n",
            " [60.27 58.46]\n",
            " [53.05 56.61]\n",
            " [54.48 48.96]\n",
            " [54.39 55.48]\n",
            " [63.53 68.56]\n",
            " [54.63 52.62]\n",
            " [61.67 57.2 ]\n",
            " [53.7  53.41]\n",
            " [67.64 69.16]\n",
            " [72.71 80.98]\n",
            " [47.13 44.56]\n",
            " [44.48 52.21]\n",
            " [64.26 64.59]\n",
            " [50.74 55.15]\n",
            " [57.21 61.65]\n",
            " [70.85 71.61]\n",
            " [34.24 38.12]\n",
            " [51.17 43.44]\n",
            " [59.12 61.97]\n",
            " [56.38 51.21]\n",
            " [41.4  45.65]\n",
            " [60.48 61.4 ]\n",
            " [54.49 55.78]\n",
            " [57.77 58.52]\n",
            " [45.89 46.18]\n",
            " [59.66 63.88]\n",
            " [67.39 64.56]\n",
            " [57.14 60.4 ]\n",
            " [57.12 52.82]\n",
            " [71.61 79.61]\n",
            " [73.88 78.33]\n",
            " [57.27 53.39]\n",
            " [53.98 58.05]\n",
            " [52.43 55.08]\n",
            " [61.41 61.2 ]\n",
            " [55.2  43.7 ]\n",
            " [56.11 53.54]\n",
            " [53.23 60.44]\n",
            " [52.18 56.69]\n",
            " [46.77 48.46]\n",
            " [48.35 57.25]\n",
            " [54.18 58.73]\n",
            " [58.04 58.98]\n",
            " [65.75 65.32]\n",
            " [66.35 71.76]\n",
            " [55.92 56.55]\n",
            " [47.53 55.11]\n",
            " [53.85 48.88]\n",
            " [45.66 49.44]\n",
            " [61.41 55.4 ]\n",
            " [67.54 69.47]\n",
            " [62.36 66.39]\n",
            " [54.15 58.29]\n",
            " [58.78 60.58]\n",
            " [46.69 44.73]\n",
            " [36.82 32.54]\n",
            " [51.07 52.11]\n",
            " [47.54 44.41]\n",
            " [56.22 51.31]\n",
            " [63.53 64.75]\n",
            " [69.2  70.11]\n",
            " [62.6  61.91]\n",
            " [40.76 38.49]\n",
            " [55.62 55.2 ]\n",
            " [63.01 60.87]\n",
            " [60.47 66.98]\n",
            " [65.11 68.84]\n",
            " [42.82 42.67]\n",
            " [59.14 59.61]\n",
            " [52.18 50.83]\n",
            " [62.89 68.79]\n",
            " [58.88 54.66]\n",
            " [58.28 66.65]\n",
            " [51.92 54.14]\n",
            " [73.92 79.61]\n",
            " [49.12 52.97]\n",
            " [47.2  47.96]\n",
            " [60.82 61.42]\n",
            " [48.55 41.41]\n",
            " [51.76 54.29]\n",
            " [44.18 49.62]\n",
            " [56.64 56.95]\n",
            " [68.84 74.41]\n",
            " [45.5  52.92]\n",
            " [73.74 88.07]\n",
            " [53.51 56.39]\n",
            " [64.54 67.72]\n",
            " [55.02 55.71]\n",
            " [52.45 57.52]\n",
            " [54.77 52.32]\n",
            " [50.44 51.  ]\n",
            " [69.05 76.33]\n",
            " [55.51 47.09]\n",
            " [51.35 45.13]\n",
            " [49.08 45.3 ]\n",
            " [61.36 61.82]\n",
            " [61.07 67.58]\n",
            " [33.92 34.1 ]\n",
            " [50.86 56.93]\n",
            " [41.97 41.41]\n",
            " [45.12 45.22]\n",
            " [54.83 57.95]\n",
            " [49.17 48.37]\n",
            " [42.35 44.89]\n",
            " [53.7  56.75]\n",
            " [42.75 45.54]\n",
            " [60.87 65.09]\n",
            " [59.45 65.72]\n",
            " [64.62 69.89]\n",
            " [68.9  75.23]\n",
            " [47.6  37.1 ]\n",
            " [64.47 65.57]\n",
            " [57.17 50.3 ]\n",
            " [45.67 45.98]\n",
            " [64.64 63.9 ]\n",
            " [63.51 67.82]\n",
            " [57.4  49.91]\n",
            " [55.7  48.37]\n",
            " [41.03 42.17]\n",
            " [62.9  59.26]\n",
            " [56.7  60.2 ]\n",
            " [50.07 49.07]\n",
            " [47.64 45.43]\n",
            " [65.62 73.03]\n",
            " [62.32 70.2 ]\n",
            " [53.   53.54]\n",
            " [56.43 56.74]\n",
            " [67.08 71.55]\n",
            " [56.45 53.57]\n",
            " [52.87 45.13]\n",
            " [59.45 63.32]\n",
            " [41.94 41.09]\n",
            " [55.44 56.35]\n",
            " [55.86 54.12]\n",
            " [62.39 60.6 ]\n",
            " [43.95 37.63]\n",
            " [55.44 51.12]\n",
            " [65.28 62.65]\n",
            " [58.36 59.62]\n",
            " [61.99 51.48]\n",
            " [54.01 53.57]\n",
            " [61.45 57.71]\n",
            " [55.02 53.66]\n",
            " [63.05 62.62]\n",
            " [49.47 47.35]\n",
            " [38.83 40.81]\n",
            " [59.13 61.16]\n",
            " [48.04 39.4 ]\n",
            " [50.75 42.57]\n",
            " [55.09 50.63]\n",
            " [40.24 39.07]\n",
            " [45.38 46.46]\n",
            " [62.83 50.25]\n",
            " [48.78 44.36]\n",
            " [52.09 51.6 ]\n",
            " [67.27 63.91]\n",
            " [52.18 52.54]\n",
            " [47.39 41.41]\n",
            " [61.07 54.85]\n",
            " [54.21 49.7 ]\n",
            " [55.66 52.93]\n",
            " [49.67 40.01]\n",
            " [58.43 62.36]\n",
            " [49.76 40.89]\n",
            " [68.03 63.27]\n",
            " [56.03 54.01]\n",
            " [64.9  64.85]\n",
            " [67.68 71.66]\n",
            " [47.97 44.78]\n",
            " [47.34 52.78]\n",
            " [64.48 67.38]\n",
            " [59.68 54.31]\n",
            " [42.89 39.93]\n",
            " [68.54 82.7 ]\n",
            " [53.27 53.93]\n",
            " [48.15 42.5 ]\n",
            " [51.65 54.05]\n",
            " [50.4  48.61]\n",
            " [45.77 46.57]\n",
            " [56.63 56.33]\n",
            " [51.29 48.72]\n",
            " [47.64 49.41]\n",
            " [51.37 55.36]\n",
            " [49.25 57.33]\n",
            " [59.06 65.25]\n",
            " [54.24 46.35]\n",
            " [49.4  56.12]\n",
            " [53.74 50.99]\n",
            " [44.29 41.39]\n",
            " [57.18 54.82]\n",
            " [55.35 55.34]\n",
            " [50.39 46.12]]\n"
          ]
        }
      ],
      "source": [
        "y_pred = regressor1.predict(x_test)\n",
        "np.set_printoptions(precision=2)\n",
        "print(np.concatenate((y_pred.reshape(len(y_pred),1), y_test.reshape(len(y_test),1)),1))"
      ]
    },
    {
      "cell_type": "markdown",
      "metadata": {
        "id": "5NFJ24Dtnuco"
      },
      "source": [
        "+ Evaluation with confusion, I have cut whole y_pred and y_test to 5 periods\n",
        "+ It will give us 5*5 confusion matrix the we will calculate TN,TP,FN,FP for each 5 periods\n",
        "+ I consider 5 cuts cz i think it has proper period length"
      ]
    },
    {
      "cell_type": "code",
      "execution_count": 444,
      "metadata": {
        "colab": {
          "base_uri": "https://localhost:8080/",
          "height": 1000
        },
        "id": "eXOOXZX16K18",
        "outputId": "70131780-db5b-40e0-f0b5-5aa57c598ecb"
      },
      "outputs": [
        {
          "name": "stdout",
          "output_type": "stream",
          "text": [
            "Cuts :  [32.48 43.65 54.75 65.86 76.97 88.07]\n",
            "Confusion Matrix\n",
            "[11, 11, 0, 0, 0]\n",
            "[3, 48, 22, 0, 0]\n",
            "[0, 20, 49, 3, 0]\n",
            "[0, 0, 13, 11, 0]\n",
            "[0, 0, 0, 7, 0]\n"
          ]
        }
      ],
      "source": [
        "import copy\n",
        "cuts = 5\n",
        "tmp = []\n",
        "for i in y_pred:\n",
        "  tmp.append(i)\n",
        "for i in y_test:\n",
        "  tmp.append(i)\n",
        "cat ,qdf = pd.cut(tmp, cuts, precision = 13, retbins=True)\n",
        "\n",
        "print(\"Cuts : \", qdf)\n",
        "\n",
        "tmp = []\n",
        "for i in range(cuts):\n",
        "  tmp.append(0)\n",
        "confusion_matrix = []\n",
        "for i in range(cuts):\n",
        "  confusion_matrix.append(copy.deepcopy(tmp))\n",
        "\n",
        "for i in range(len(y_pred)):\n",
        "  done = False\n",
        "  for p in range(len(qdf)-1):\n",
        "    for q in range(len(qdf)-1):\n",
        "      if (qdf[p] < y_pred[i] <= qdf[p+1]) and (qdf[q] < y_test[i] <= qdf[q+1]):\n",
        "        confusion_matrix[q][p] += 1\n",
        "        done = True\n",
        "        break\n",
        "    if done:\n",
        "      break\n",
        "\n",
        "print(\"Confusion Matrix\")\n",
        "for i in confusion_matrix:\n",
        "  print(i)"
      ]
    },
    {
      "cell_type": "markdown",
      "metadata": {},
      "source": [
        "Confusion Matrix"
      ]
    },
    {
      "cell_type": "code",
      "execution_count": 445,
      "metadata": {},
      "outputs": [
        {
          "data": {
            "image/png": "[encoded data removed]",
            "text/plain": [
              "<Figure size 720x720 with 2 Axes>"
            ]
          },
          "metadata": {
            "needs_background": "light"
          },
          "output_type": "display_data"
        }
      ],
      "source": [
        "plt.figure(figsize=(10,10))\n",
        "sns.heatmap(confusion_matrix, annot=True)\n",
        "plt.title('Confusion Matrix')\n",
        "plt.ylabel('Actal Values')\n",
        "plt.xlabel('Predicted Values')\n",
        "plt.show()"
      ]
    },
    {
      "cell_type": "markdown",
      "metadata": {},
      "source": [
        "Obtain TN,TP,FN,FP from Confusion"
      ]
    },
    {
      "cell_type": "code",
      "execution_count": 446,
      "metadata": {},
      "outputs": [],
      "source": [
        "TP = {}\n",
        "TN = {}\n",
        "FN = {}\n",
        "FP = {}\n",
        "for i in range(cuts):\n",
        "  TP[i] = confusion_matrix[i][i]\n",
        "  TN[i] = 0\n",
        "  FN[i] = 0\n",
        "  FP[i] = 0\n",
        "  for j in range(cuts):\n",
        "    if j != i:\n",
        "      FN[i] += confusion_matrix[i][j]\n",
        "  for j in range(cuts):\n",
        "    if j != i:\n",
        "      FP[i] += confusion_matrix[j][i]\n",
        "  for j in range(cuts):\n",
        "    for z in range(cuts):\n",
        "      if z != i and j != i:\n",
        "        TN[i] += confusion_matrix[j][z]"
      ]
    },
    {
      "cell_type": "markdown",
      "metadata": {},
      "source": [
        "Print TN,TP,FN,FP for each cut"
      ]
    },
    {
      "cell_type": "code",
      "execution_count": 447,
      "metadata": {},
      "outputs": [
        {
          "name": "stdout",
          "output_type": "stream",
          "text": [
            "Cut number:  1\n",
            "TP :  11\n",
            "TN :  173\n",
            "FN :  11\n",
            "FP :  3\n",
            "Cut number:  2\n",
            "TP :  48\n",
            "TN :  94\n",
            "FN :  25\n",
            "FP :  31\n",
            "Cut number:  3\n",
            "TP :  49\n",
            "TN :  91\n",
            "FN :  23\n",
            "FP :  35\n",
            "Cut number:  4\n",
            "TP :  11\n",
            "TN :  164\n",
            "FN :  13\n",
            "FP :  10\n",
            "Cut number:  5\n",
            "TP :  0\n",
            "TN :  191\n",
            "FN :  7\n",
            "FP :  0\n"
          ]
        }
      ],
      "source": [
        "for i in range(cuts):\n",
        "  print(\"Cut number: \",i+1)\n",
        "  print(\"TP : \",TP[i])\n",
        "  print(\"TN : \",TN[i])\n",
        "  print(\"FN : \",FN[i])\n",
        "  print(\"FP : \",FP[i])"
      ]
    },
    {
      "cell_type": "markdown",
      "metadata": {},
      "source": [
        "Calcualte accuracy, precision, recall"
      ]
    },
    {
      "cell_type": "markdown",
      "metadata": {},
      "source": [
        "Accuracy"
      ]
    },
    {
      "cell_type": "code",
      "execution_count": 448,
      "metadata": {},
      "outputs": [
        {
          "name": "stdout",
          "output_type": "stream",
          "text": [
            "Accuracy : \n",
            "Cut number:  1\n",
            "0.9292929292929293\n",
            "Cut number:  2\n",
            "0.7171717171717171\n",
            "Cut number:  3\n",
            "0.7070707070707071\n",
            "Cut number:  4\n",
            "0.8838383838383839\n",
            "Cut number:  5\n",
            "0.9646464646464646\n",
            "Total :  0.8404040404040403\n"
          ]
        }
      ],
      "source": [
        "print(\"Accuracy : \")\n",
        "total = 0\n",
        "for i in range(cuts):\n",
        "  print(\"Cut number: \",i+1)\n",
        "  total += (TP[i]+TN[i])/len(y_test)\n",
        "  print((TP[i]+TN[i])/len(y_test))\n",
        "print(\"Total : \",total/cuts)"
      ]
    },
    {
      "cell_type": "markdown",
      "metadata": {},
      "source": [
        "Precision"
      ]
    },
    {
      "cell_type": "code",
      "execution_count": 449,
      "metadata": {},
      "outputs": [
        {
          "name": "stdout",
          "output_type": "stream",
          "text": [
            "Precision : \n",
            "Cut number:  1\n",
            "0.7857142857142857\n",
            "Cut number:  2\n",
            "0.6075949367088608\n",
            "Cut number:  3\n",
            "0.5833333333333334\n",
            "Cut number:  4\n",
            "0.5238095238095238\n",
            "Cut number:  5\n",
            "0\n",
            "Total :  0.5000904159132007\n"
          ]
        }
      ],
      "source": [
        "print(\"Precision : \")\n",
        "total = 0\n",
        "for i in range(cuts):\n",
        "  print(\"Cut number: \",i+1)\n",
        "  if TP[i] == 0:\n",
        "    print(0)\n",
        "  else:\n",
        "    print((TP[i])/(TP[i] + FP[i]))\n",
        "    total += (TP[i])/(TP[i] + FP[i])\n",
        "print(\"Total : \",total/cuts)"
      ]
    },
    {
      "cell_type": "markdown",
      "metadata": {},
      "source": [
        "Recall"
      ]
    },
    {
      "cell_type": "code",
      "execution_count": 450,
      "metadata": {},
      "outputs": [
        {
          "name": "stdout",
          "output_type": "stream",
          "text": [
            "Recall : \n",
            "Cut number:  1\n",
            "0.5\n",
            "Cut number:  2\n",
            "0.6575342465753424\n",
            "Cut number:  3\n",
            "0.6805555555555556\n",
            "Cut number:  4\n",
            "0.4583333333333333\n",
            "Cut number:  5\n",
            "0\n",
            "Total :  0.45928462709284623\n"
          ]
        }
      ],
      "source": [
        "print(\"Recall : \")\n",
        "total = 0\n",
        "for i in range(cuts):\n",
        "  print(\"Cut number: \",i+1)\n",
        "  if TP[i] == 0:\n",
        "    print(0)\n",
        "  else:\n",
        "    print((TP[i])/(TP[i] + FN[i]))\n",
        "    total += (TP[i])/(TP[i] + FN[i])\n",
        "print(\"Total : \",total/cuts)"
      ]
    },
    {
      "cell_type": "markdown",
      "metadata": {},
      "source": [
        "Starting the Deep Learning with spliting to x and y, onehotencoding categoricals, split into train & test and fill missing values"
      ]
    },
    {
      "cell_type": "code",
      "execution_count": 451,
      "metadata": {},
      "outputs": [],
      "source": [
        "x = my_file.iloc[:, :-1].values\n",
        "y = my_file.iloc[:, -1].values\n",
        "\n",
        "ct = ColumnTransformer(transformers=[('encoder', OneHotEncoder(), [0])], remainder='passthrough')\n",
        "x = np.array(ct.fit_transform(x))\n",
        "\n",
        "x_train, x_test, y_train, y_test = train_test_split(x, y, test_size = 0.2, random_state = 98)\n",
        "\n",
        "imputer = SimpleImputer(missing_values=np.nan, strategy='mean')\n",
        "imputer2 = SimpleImputer(missing_values=np.nan, strategy='mean')\n",
        "imputer.fit(x_train[:, :])\n",
        "imputer2.fit(x_test[:, :])\n",
        "x_train[:, :] = imputer.transform(x_train[:, :])\n",
        "x_test[:, :] = imputer.transform(x_test[:, :])"
      ]
    },
    {
      "cell_type": "markdown",
      "metadata": {},
      "source": [
        "Scale whole data with standardization"
      ]
    },
    {
      "cell_type": "code",
      "execution_count": 452,
      "metadata": {},
      "outputs": [],
      "source": [
        "from sklearn.preprocessing import StandardScaler\n",
        "sc = StandardScaler()\n",
        "x_train = sc.fit_transform(x_train)\n",
        "x_test = sc.transform(x_test)\n",
        "sc2 = StandardScaler()\n",
        "y_train = sc2.fit_transform(pd.DataFrame(y_train))\n",
        "y_test = sc2.transform(pd.DataFrame(y_test))"
      ]
    },
    {
      "cell_type": "markdown",
      "metadata": {},
      "source": [
        "Initialization of DL with import tensorflow and make the model"
      ]
    },
    {
      "cell_type": "code",
      "execution_count": 453,
      "metadata": {},
      "outputs": [],
      "source": [
        "import tensorflow as tf\n",
        "tf.__version__\n",
        "\n",
        "ann = tf.keras.models.Sequential()"
      ]
    },
    {
      "cell_type": "markdown",
      "metadata": {},
      "source": [
        "Input layer"
      ]
    },
    {
      "cell_type": "code",
      "execution_count": 454,
      "metadata": {},
      "outputs": [],
      "source": [
        "ann.add(tf.keras.layers.Dense(units = 11, input_dim = 20, activation = \"relu\"))"
      ]
    },
    {
      "cell_type": "markdown",
      "metadata": {},
      "source": [
        "Hidden layers"
      ]
    },
    {
      "cell_type": "code",
      "execution_count": 455,
      "metadata": {},
      "outputs": [],
      "source": [
        "ann.add(tf.keras.layers.Dense(units = 8, activation = \"relu\"))\n",
        "\n",
        "ann.add(tf.keras.layers.Dense(units = 10, activation = \"relu\"))"
      ]
    },
    {
      "cell_type": "markdown",
      "metadata": {},
      "source": [
        "Output layers"
      ]
    },
    {
      "cell_type": "code",
      "execution_count": 456,
      "metadata": {},
      "outputs": [],
      "source": [
        "ann.add(tf.keras.layers.Dense(units = 1, activation = \"sigmoid\"))"
      ]
    },
    {
      "cell_type": "markdown",
      "metadata": {},
      "source": [
        "Compile and Train"
      ]
    },
    {
      "cell_type": "code",
      "execution_count": 457,
      "metadata": {},
      "outputs": [
        {
          "name": "stdout",
          "output_type": "stream",
          "text": [
            "Epoch 1/50\n",
            "395/395 [==============================] - 1s 1ms/step - loss: 0.9986 - mse: 0.9986 - MAE: 0.7966\n",
            "Epoch 2/50\n",
            "395/395 [==============================] - 0s 1ms/step - loss: 0.7234 - mse: 0.7234 - MAE: 0.6446\n",
            "Epoch 3/50\n",
            "395/395 [==============================] - 0s 1ms/step - loss: 0.6243 - mse: 0.6243 - MAE: 0.5739\n",
            "Epoch 4/50\n",
            "395/395 [==============================] - 0s 1ms/step - loss: 0.6032 - mse: 0.6032 - MAE: 0.5580\n",
            "Epoch 5/50\n",
            "395/395 [==============================] - 0s 1ms/step - loss: 0.5950 - mse: 0.5950 - MAE: 0.5487\n",
            "Epoch 6/50\n",
            "395/395 [==============================] - 0s 1ms/step - loss: 0.5910 - mse: 0.5910 - MAE: 0.5426\n",
            "Epoch 7/50\n",
            "395/395 [==============================] - 0s 1ms/step - loss: 0.5879 - mse: 0.5879 - MAE: 0.5383\n",
            "Epoch 8/50\n",
            "395/395 [==============================] - 0s 1ms/step - loss: 0.5848 - mse: 0.5848 - MAE: 0.5341\n",
            "Epoch 9/50\n",
            "395/395 [==============================] - 0s 1ms/step - loss: 0.5792 - mse: 0.5792 - MAE: 0.5282\n",
            "Epoch 10/50\n",
            "395/395 [==============================] - 1s 2ms/step - loss: 0.5767 - mse: 0.5767 - MAE: 0.5239\n",
            "Epoch 11/50\n",
            "395/395 [==============================] - 1s 1ms/step - loss: 0.5760 - mse: 0.5760 - MAE: 0.5238\n",
            "Epoch 12/50\n",
            "395/395 [==============================] - 1s 2ms/step - loss: 0.5752 - mse: 0.5752 - MAE: 0.5217\n",
            "Epoch 13/50\n",
            "395/395 [==============================] - 1s 1ms/step - loss: 0.5746 - mse: 0.5746 - MAE: 0.5195\n",
            "Epoch 14/50\n",
            "395/395 [==============================] - 1s 1ms/step - loss: 0.5747 - mse: 0.5747 - MAE: 0.5204\n",
            "Epoch 15/50\n",
            "395/395 [==============================] - 1s 1ms/step - loss: 0.5739 - mse: 0.5739 - MAE: 0.5180\n",
            "Epoch 16/50\n",
            "395/395 [==============================] - 1s 1ms/step - loss: 0.5735 - mse: 0.5735 - MAE: 0.5165\n",
            "Epoch 17/50\n",
            "395/395 [==============================] - 1s 1ms/step - loss: 0.5730 - mse: 0.5730 - MAE: 0.5143\n",
            "Epoch 18/50\n",
            "395/395 [==============================] - 1s 1ms/step - loss: 0.5728 - mse: 0.5728 - MAE: 0.5147\n",
            "Epoch 19/50\n",
            "395/395 [==============================] - 1s 2ms/step - loss: 0.5727 - mse: 0.5727 - MAE: 0.5142\n",
            "Epoch 20/50\n",
            "395/395 [==============================] - 1s 2ms/step - loss: 0.5725 - mse: 0.5725 - MAE: 0.5136\n",
            "Epoch 21/50\n",
            "395/395 [==============================] - 1s 1ms/step - loss: 0.5725 - mse: 0.5725 - MAE: 0.5131\n",
            "Epoch 22/50\n",
            "395/395 [==============================] - 1s 2ms/step - loss: 0.5722 - mse: 0.5722 - MAE: 0.5125\n",
            "Epoch 23/50\n",
            "395/395 [==============================] - 1s 1ms/step - loss: 0.5722 - mse: 0.5722 - MAE: 0.5125\n",
            "Epoch 24/50\n",
            "395/395 [==============================] - 1s 2ms/step - loss: 0.5719 - mse: 0.5719 - MAE: 0.5111\n",
            "Epoch 25/50\n",
            "395/395 [==============================] - 1s 1ms/step - loss: 0.5718 - mse: 0.5718 - MAE: 0.5103\n",
            "Epoch 26/50\n",
            "395/395 [==============================] - 1s 1ms/step - loss: 0.5716 - mse: 0.5716 - MAE: 0.5102\n",
            "Epoch 27/50\n",
            "395/395 [==============================] - 1s 1ms/step - loss: 0.5715 - mse: 0.5715 - MAE: 0.5094\n",
            "Epoch 28/50\n",
            "395/395 [==============================] - 1s 1ms/step - loss: 0.5714 - mse: 0.5714 - MAE: 0.5090\n",
            "Epoch 29/50\n",
            "395/395 [==============================] - 1s 2ms/step - loss: 0.5712 - mse: 0.5712 - MAE: 0.5080\n",
            "Epoch 30/50\n",
            "395/395 [==============================] - 1s 1ms/step - loss: 0.5713 - mse: 0.5713 - MAE: 0.5086\n",
            "Epoch 31/50\n",
            "395/395 [==============================] - 0s 1ms/step - loss: 0.5710 - mse: 0.5710 - MAE: 0.5069\n",
            "Epoch 32/50\n",
            "395/395 [==============================] - 0s 1ms/step - loss: 0.5707 - mse: 0.5707 - MAE: 0.5059\n",
            "Epoch 33/50\n",
            "395/395 [==============================] - 0s 1ms/step - loss: 0.5708 - mse: 0.5708 - MAE: 0.5054\n",
            "Epoch 34/50\n",
            "395/395 [==============================] - 0s 1ms/step - loss: 0.5708 - mse: 0.5708 - MAE: 0.5064\n",
            "Epoch 35/50\n",
            "395/395 [==============================] - 1s 1ms/step - loss: 0.5708 - mse: 0.5708 - MAE: 0.5059\n",
            "Epoch 36/50\n",
            "395/395 [==============================] - 0s 1ms/step - loss: 0.5707 - mse: 0.5707 - MAE: 0.5048\n",
            "Epoch 37/50\n",
            "395/395 [==============================] - 1s 1ms/step - loss: 0.5704 - mse: 0.5704 - MAE: 0.5037\n",
            "Epoch 38/50\n",
            "395/395 [==============================] - 1s 1ms/step - loss: 0.5704 - mse: 0.5704 - MAE: 0.5033\n",
            "Epoch 39/50\n",
            "395/395 [==============================] - 1s 1ms/step - loss: 0.5703 - mse: 0.5703 - MAE: 0.5031\n",
            "Epoch 40/50\n",
            "395/395 [==============================] - 1s 1ms/step - loss: 0.5702 - mse: 0.5702 - MAE: 0.5025\n",
            "Epoch 41/50\n",
            "395/395 [==============================] - 1s 1ms/step - loss: 0.5704 - mse: 0.5704 - MAE: 0.5035\n",
            "Epoch 42/50\n",
            "395/395 [==============================] - 1s 1ms/step - loss: 0.5705 - mse: 0.5705 - MAE: 0.5037\n",
            "Epoch 43/50\n",
            "395/395 [==============================] - 1s 2ms/step - loss: 0.5702 - mse: 0.5702 - MAE: 0.5023\n",
            "Epoch 44/50\n",
            "395/395 [==============================] - 1s 1ms/step - loss: 0.5703 - mse: 0.5703 - MAE: 0.5030\n",
            "Epoch 45/50\n",
            "395/395 [==============================] - 0s 1ms/step - loss: 0.5702 - mse: 0.5702 - MAE: 0.5020\n",
            "Epoch 46/50\n",
            "395/395 [==============================] - 1s 1ms/step - loss: 0.5701 - mse: 0.5701 - MAE: 0.5009\n",
            "Epoch 47/50\n",
            "395/395 [==============================] - 1s 1ms/step - loss: 0.5700 - mse: 0.5700 - MAE: 0.5010\n",
            "Epoch 48/50\n",
            "395/395 [==============================] - 1s 1ms/step - loss: 0.5700 - mse: 0.5700 - MAE: 0.5015\n",
            "Epoch 49/50\n",
            "395/395 [==============================] - 1s 1ms/step - loss: 0.5703 - mse: 0.5703 - MAE: 0.5028\n",
            "Epoch 50/50\n",
            "395/395 [==============================] - 1s 1ms/step - loss: 0.5702 - mse: 0.5702 - MAE: 0.5016\n"
          ]
        }
      ],
      "source": [
        "ann.compile(optimizer = 'adam', loss = 'mse', metrics = ['mse','MAE'])\n",
        "history = ann.fit(x_train, y_train, batch_size = 2, epochs = 50)"
      ]
    },
    {
      "cell_type": "markdown",
      "metadata": {},
      "source": [
        "Predict the independent var with test"
      ]
    },
    {
      "cell_type": "code",
      "execution_count": 458,
      "metadata": {},
      "outputs": [
        {
          "name": "stdout",
          "output_type": "stream",
          "text": [
            "7/7 [==============================] - 0s 1ms/step\n"
          ]
        }
      ],
      "source": [
        "y_pred = ann.predict(x_test)"
      ]
    },
    {
      "cell_type": "markdown",
      "metadata": {},
      "source": [
        "Epoch - MAE and loss"
      ]
    },
    {
      "cell_type": "code",
      "execution_count": 459,
      "metadata": {},
      "outputs": [
        {
          "data": {
            "image/png": "[encoded data removed]",
            "text/plain": [
              "<Figure size 432x288 with 1 Axes>"
            ]
          },
          "metadata": {
            "needs_background": "light"
          },
          "output_type": "display_data"
        },
        {
          "data": {
            "image/png": "[encoded data removed]",
            "text/plain": [
              "<Figure size 432x288 with 1 Axes>"
            ]
          },
          "metadata": {
            "needs_background": "light"
          },
          "output_type": "display_data"
        }
      ],
      "source": [
        "plt.plot(history.history['MAE'])\n",
        "plt.title('model MAE')\n",
        "plt.ylabel('MAE')\n",
        "plt.xlabel('epoch')\n",
        "plt.legend(['train'], loc='upper left')\n",
        "plt.show()\n",
        "\n",
        "plt.plot(history.history['loss'])\n",
        "plt.title('model loss')\n",
        "plt.ylabel('loss')\n",
        "plt.xlabel('epoch')\n",
        "plt.legend(['train'], loc='upper left')\n",
        "plt.show()"
      ]
    },
    {
      "cell_type": "markdown",
      "metadata": {},
      "source": [
        "Calculate Confusion Matrix"
      ]
    },
    {
      "cell_type": "code",
      "execution_count": 460,
      "metadata": {},
      "outputs": [
        {
          "name": "stdout",
          "output_type": "stream",
          "text": [
            "Cuts :  [32.48 43.65 54.75 65.86 76.97 88.07]\n",
            "Confusion Matrix\n",
            "[0, 0, 22, 0, 0]\n",
            "[0, 0, 73, 0, 0]\n",
            "[0, 0, 70, 2, 0]\n",
            "[0, 0, 0, 24, 0]\n",
            "[0, 0, 0, 7, 0]\n"
          ]
        }
      ],
      "source": [
        "cuts = 5\n",
        "tmp = []\n",
        "\n",
        "y_pred = sc2.inverse_transform(y_pred)\n",
        "y_test = sc2.inverse_transform(y_test)\n",
        "y_train = sc2.inverse_transform(y_train)\n",
        "\n",
        "for i in y_pred:\n",
        "  tmp.append(float(i))\n",
        "for i in y_test:\n",
        "  tmp.append(float(i))\n",
        "\n",
        "cat ,qdf = pd.cut(tmp, cuts, precision = 13, retbins=True)\n",
        "\n",
        "print(\"Cuts : \", qdf)\n",
        "\n",
        "tmp = []\n",
        "for i in range(cuts):\n",
        "  tmp.append(0)\n",
        "\n",
        "confusion_matrix = []\n",
        "for i in range(cuts):\n",
        "  confusion_matrix.append(copy.deepcopy(tmp))\n",
        "\n",
        "for i in range(len(y_pred)):\n",
        "  done = False\n",
        "  for p in range(len(qdf)-1):\n",
        "    for q in range(len(qdf)-1):\n",
        "      if (qdf[p] < y_pred[i] <= qdf[p+1]) and (qdf[q] < y_test[i] <= qdf[q+1]):\n",
        "        confusion_matrix[q][p] += 1\n",
        "        done = True\n",
        "        break\n",
        "    if done:\n",
        "      break\n",
        "\n",
        "print(\"Confusion Matrix\")\n",
        "for i in confusion_matrix:\n",
        "  print(i)"
      ]
    },
    {
      "cell_type": "markdown",
      "metadata": {},
      "source": [
        "Confusion Matrix"
      ]
    },
    {
      "cell_type": "code",
      "execution_count": 461,
      "metadata": {},
      "outputs": [
        {
          "data": {
            "image/png": "[encoded data removed]",
            "text/plain": [
              "<Figure size 720x720 with 2 Axes>"
            ]
          },
          "metadata": {
            "needs_background": "light"
          },
          "output_type": "display_data"
        }
      ],
      "source": [
        "plt.figure(figsize=(10,10))\n",
        "sns.heatmap(confusion_matrix, annot=True)\n",
        "plt.title('Confusion Matrix')\n",
        "plt.ylabel('Actal Values')\n",
        "plt.xlabel('Predicted Values')\n",
        "plt.show()"
      ]
    },
    {
      "cell_type": "markdown",
      "metadata": {},
      "source": [
        "Calculate TP,TN,FN,FP"
      ]
    },
    {
      "cell_type": "code",
      "execution_count": 462,
      "metadata": {},
      "outputs": [
        {
          "name": "stdout",
          "output_type": "stream",
          "text": [
            "Cut number:  1\n",
            "TP :  0\n",
            "TN :  176\n",
            "FN :  22\n",
            "FP :  0\n",
            "Cut number:  2\n",
            "TP :  0\n",
            "TN :  125\n",
            "FN :  73\n",
            "FP :  0\n",
            "Cut number:  3\n",
            "TP :  70\n",
            "TN :  31\n",
            "FN :  2\n",
            "FP :  95\n",
            "Cut number:  4\n",
            "TP :  24\n",
            "TN :  165\n",
            "FN :  0\n",
            "FP :  9\n",
            "Cut number:  5\n",
            "TP :  0\n",
            "TN :  191\n",
            "FN :  7\n",
            "FP :  0\n"
          ]
        }
      ],
      "source": [
        "TP = {}\n",
        "TN = {}\n",
        "FN = {}\n",
        "FP = {}\n",
        "for i in range(cuts):\n",
        "  TP[i] = confusion_matrix[i][i]\n",
        "  TN[i] = 0\n",
        "  FN[i] = 0\n",
        "  FP[i] = 0\n",
        "  for j in range(cuts):\n",
        "    if j != i:\n",
        "      FN[i] += confusion_matrix[i][j]\n",
        "  for j in range(cuts):\n",
        "    if j != i:\n",
        "      FP[i] += confusion_matrix[j][i]\n",
        "  for j in range(cuts):\n",
        "    for z in range(cuts):\n",
        "      if z != i and j != i:\n",
        "        TN[i] += confusion_matrix[j][z]\n",
        "\n",
        "for i in range(cuts):\n",
        "  print(\"Cut number: \",i+1)\n",
        "  print(\"TP : \",TP[i])\n",
        "  print(\"TN : \",TN[i])\n",
        "  print(\"FN : \",FN[i])\n",
        "  print(\"FP : \",FP[i])"
      ]
    },
    {
      "cell_type": "markdown",
      "metadata": {},
      "source": [
        "Accuracy"
      ]
    },
    {
      "cell_type": "code",
      "execution_count": 463,
      "metadata": {},
      "outputs": [
        {
          "name": "stdout",
          "output_type": "stream",
          "text": [
            "Accuracy : \n",
            "Cut number:  1\n",
            "0.8888888888888888\n",
            "Cut number:  2\n",
            "0.6313131313131313\n",
            "Cut number:  3\n",
            "0.51010101010101\n",
            "Cut number:  4\n",
            "0.9545454545454546\n",
            "Cut number:  5\n",
            "0.9646464646464646\n",
            "Total :  0.7898989898989899\n"
          ]
        }
      ],
      "source": [
        "print(\"Accuracy : \")\n",
        "total = 0\n",
        "for i in range(cuts):\n",
        "  print(\"Cut number: \",i+1)\n",
        "  total += (TP[i]+TN[i])/len(y_test)\n",
        "  print((TP[i]+TN[i])/len(y_test))\n",
        "print(\"Total : \",total/cuts)"
      ]
    },
    {
      "cell_type": "markdown",
      "metadata": {},
      "source": [
        "Precision"
      ]
    },
    {
      "cell_type": "code",
      "execution_count": 464,
      "metadata": {},
      "outputs": [
        {
          "name": "stdout",
          "output_type": "stream",
          "text": [
            "Precision : \n",
            "Cut number:  1\n",
            "0\n",
            "Cut number:  2\n",
            "0\n",
            "Cut number:  3\n",
            "0.42424242424242425\n",
            "Cut number:  4\n",
            "0.7272727272727273\n",
            "Cut number:  5\n",
            "0\n",
            "Total :  0.23030303030303031\n"
          ]
        }
      ],
      "source": [
        "print(\"Precision : \")\n",
        "total = 0\n",
        "for i in range(cuts):\n",
        "  print(\"Cut number: \",i+1)\n",
        "  if TP[i] == 0:\n",
        "    print(0)\n",
        "  else:\n",
        "    print((TP[i])/(TP[i] + FP[i]))\n",
        "    total += (TP[i])/(TP[i] + FP[i])\n",
        "print(\"Total : \",total/cuts)"
      ]
    },
    {
      "cell_type": "markdown",
      "metadata": {},
      "source": [
        "Recall"
      ]
    },
    {
      "cell_type": "code",
      "execution_count": 465,
      "metadata": {},
      "outputs": [
        {
          "name": "stdout",
          "output_type": "stream",
          "text": [
            "Recall : \n",
            "Cut number:  1\n",
            "0\n",
            "Cut number:  2\n",
            "0\n",
            "Cut number:  3\n",
            "0.9722222222222222\n",
            "Cut number:  4\n",
            "1.0\n",
            "Cut number:  5\n",
            "0\n",
            "Total :  0.3944444444444445\n"
          ]
        }
      ],
      "source": [
        "print(\"Recall : \")\n",
        "total = 0\n",
        "for i in range(cuts):\n",
        "  print(\"Cut number: \",i+1)\n",
        "  if TP[i] == 0:\n",
        "    print(0)\n",
        "  else:\n",
        "    print((TP[i])/(TP[i] + FN[i]))\n",
        "    total += (TP[i])/(TP[i] + FN[i])\n",
        "print(\"Total : \",total/cuts)"
      ]
    }
  ],
  "metadata": {
    "colab": {
      "provenance": []
    },
    "kernelspec": {
      "display_name": "Python 3",
      "name": "python3"
    },
    "language_info": {
      "codemirror_mode": {
        "name": "ipython",
        "version": 3
      },
      "file_extension": ".py",
      "mimetype": "text/x-python",
      "name": "python",
      "nbconvert_exporter": "python",
      "pygments_lexer": "ipython3",
      "version": "3.9.2"
    }
  },
  "nbformat": 4,
  "nbformat_minor": 0
}
