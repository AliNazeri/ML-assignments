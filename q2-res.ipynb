{
 "cells": [
  {
   "cell_type": "code",
   "execution_count": 212,
   "metadata": {},
   "outputs": [],
   "source": [
    "import numpy as np\n",
    "import matplotlib.pyplot as plt\n",
    "import plotly\n",
    "import plotly.graph_objs as go\n",
    "%matplotlib inline\n",
    "from mpl_toolkits.mplot3d import Axes3D\n",
    "import pandas as pd\n",
    "import random\n",
    "import copy\n",
    "from sklearn import metrics"
   ]
  },
  {
   "cell_type": "code",
   "execution_count": 213,
   "metadata": {},
   "outputs": [],
   "source": [
    "dataset = pd.read_csv('Data/Q2.csv')"
   ]
  },
  {
   "cell_type": "code",
   "execution_count": 214,
   "metadata": {},
   "outputs": [
    {
     "data": {
      "text/html": [
       "<div>\n",
       "<style scoped>\n",
       "    .dataframe tbody tr th:only-of-type {\n",
       "        vertical-align: middle;\n",
       "    }\n",
       "\n",
       "    .dataframe tbody tr th {\n",
       "        vertical-align: top;\n",
       "    }\n",
       "\n",
       "    .dataframe thead th {\n",
       "        text-align: right;\n",
       "    }\n",
       "</style>\n",
       "<table border=\"1\" class=\"dataframe\">\n",
       "  <thead>\n",
       "    <tr style=\"text-align: right;\">\n",
       "      <th></th>\n",
       "      <th>Favorite Color</th>\n",
       "      <th>Favorite Music Genre</th>\n",
       "      <th>Favorite Soft Drink</th>\n",
       "      <th>Gender</th>\n",
       "    </tr>\n",
       "  </thead>\n",
       "  <tbody>\n",
       "    <tr>\n",
       "      <th>0</th>\n",
       "      <td>Cool</td>\n",
       "      <td>Rock</td>\n",
       "      <td>7UP/Sprite</td>\n",
       "      <td>F</td>\n",
       "    </tr>\n",
       "    <tr>\n",
       "      <th>1</th>\n",
       "      <td>Neutral</td>\n",
       "      <td>Hip hop</td>\n",
       "      <td>Coca Cola/Pepsi</td>\n",
       "      <td>F</td>\n",
       "    </tr>\n",
       "    <tr>\n",
       "      <th>2</th>\n",
       "      <td>Warm</td>\n",
       "      <td>Rock</td>\n",
       "      <td>Coca Cola/Pepsi</td>\n",
       "      <td>F</td>\n",
       "    </tr>\n",
       "    <tr>\n",
       "      <th>3</th>\n",
       "      <td>Warm</td>\n",
       "      <td>Folk/Traditional</td>\n",
       "      <td>Fanta</td>\n",
       "      <td>F</td>\n",
       "    </tr>\n",
       "    <tr>\n",
       "      <th>4</th>\n",
       "      <td>Cool</td>\n",
       "      <td>Rock</td>\n",
       "      <td>Coca Cola/Pepsi</td>\n",
       "      <td>F</td>\n",
       "    </tr>\n",
       "    <tr>\n",
       "      <th>...</th>\n",
       "      <td>...</td>\n",
       "      <td>...</td>\n",
       "      <td>...</td>\n",
       "      <td>...</td>\n",
       "    </tr>\n",
       "    <tr>\n",
       "      <th>61</th>\n",
       "      <td>Cool</td>\n",
       "      <td>Rock</td>\n",
       "      <td>Coca Cola/Pepsi</td>\n",
       "      <td>M</td>\n",
       "    </tr>\n",
       "    <tr>\n",
       "      <th>62</th>\n",
       "      <td>Cool</td>\n",
       "      <td>Hip hop</td>\n",
       "      <td>Coca Cola/Pepsi</td>\n",
       "      <td>M</td>\n",
       "    </tr>\n",
       "    <tr>\n",
       "      <th>63</th>\n",
       "      <td>Neutral</td>\n",
       "      <td>Hip hop</td>\n",
       "      <td>Fanta</td>\n",
       "      <td>M</td>\n",
       "    </tr>\n",
       "    <tr>\n",
       "      <th>64</th>\n",
       "      <td>Cool</td>\n",
       "      <td>Rock</td>\n",
       "      <td>Coca Cola/Pepsi</td>\n",
       "      <td>M</td>\n",
       "    </tr>\n",
       "    <tr>\n",
       "      <th>65</th>\n",
       "      <td>Cool</td>\n",
       "      <td>Electronic</td>\n",
       "      <td>Coca Cola/Pepsi</td>\n",
       "      <td>M</td>\n",
       "    </tr>\n",
       "  </tbody>\n",
       "</table>\n",
       "<p>66 rows × 4 columns</p>\n",
       "</div>"
      ],
      "text/plain": [
       "   Favorite Color Favorite Music Genre Favorite Soft Drink Gender\n",
       "0            Cool                 Rock          7UP/Sprite      F\n",
       "1         Neutral              Hip hop     Coca Cola/Pepsi      F\n",
       "2            Warm                 Rock     Coca Cola/Pepsi      F\n",
       "3            Warm     Folk/Traditional               Fanta      F\n",
       "4            Cool                 Rock     Coca Cola/Pepsi      F\n",
       "..            ...                  ...                 ...    ...\n",
       "61           Cool                 Rock     Coca Cola/Pepsi      M\n",
       "62           Cool              Hip hop     Coca Cola/Pepsi      M\n",
       "63        Neutral              Hip hop               Fanta      M\n",
       "64           Cool                 Rock     Coca Cola/Pepsi      M\n",
       "65           Cool           Electronic     Coca Cola/Pepsi      M\n",
       "\n",
       "[66 rows x 4 columns]"
      ]
     },
     "execution_count": 214,
     "metadata": {},
     "output_type": "execute_result"
    }
   ],
   "source": [
    "dataset"
   ]
  },
  {
   "cell_type": "code",
   "execution_count": 215,
   "metadata": {},
   "outputs": [
    {
     "data": {
      "text/html": [
       "<div>\n",
       "<style scoped>\n",
       "    .dataframe tbody tr th:only-of-type {\n",
       "        vertical-align: middle;\n",
       "    }\n",
       "\n",
       "    .dataframe tbody tr th {\n",
       "        vertical-align: top;\n",
       "    }\n",
       "\n",
       "    .dataframe thead th {\n",
       "        text-align: right;\n",
       "    }\n",
       "</style>\n",
       "<table border=\"1\" class=\"dataframe\">\n",
       "  <thead>\n",
       "    <tr style=\"text-align: right;\">\n",
       "      <th></th>\n",
       "      <th>Favorite Color</th>\n",
       "      <th>Favorite Music Genre</th>\n",
       "      <th>Favorite Soft Drink</th>\n",
       "      <th>Gender</th>\n",
       "    </tr>\n",
       "  </thead>\n",
       "  <tbody>\n",
       "    <tr>\n",
       "      <th>count</th>\n",
       "      <td>66</td>\n",
       "      <td>66</td>\n",
       "      <td>66</td>\n",
       "      <td>66</td>\n",
       "    </tr>\n",
       "    <tr>\n",
       "      <th>unique</th>\n",
       "      <td>3</td>\n",
       "      <td>7</td>\n",
       "      <td>4</td>\n",
       "      <td>2</td>\n",
       "    </tr>\n",
       "    <tr>\n",
       "      <th>top</th>\n",
       "      <td>Cool</td>\n",
       "      <td>Rock</td>\n",
       "      <td>Coca Cola/Pepsi</td>\n",
       "      <td>F</td>\n",
       "    </tr>\n",
       "    <tr>\n",
       "      <th>freq</th>\n",
       "      <td>37</td>\n",
       "      <td>19</td>\n",
       "      <td>32</td>\n",
       "      <td>33</td>\n",
       "    </tr>\n",
       "  </tbody>\n",
       "</table>\n",
       "</div>"
      ],
      "text/plain": [
       "       Favorite Color Favorite Music Genre Favorite Soft Drink Gender\n",
       "count              66                   66                  66     66\n",
       "unique              3                    7                   4      2\n",
       "top              Cool                 Rock     Coca Cola/Pepsi      F\n",
       "freq               37                   19                  32     33"
      ]
     },
     "execution_count": 215,
     "metadata": {},
     "output_type": "execute_result"
    }
   ],
   "source": [
    "dataset.describe()"
   ]
  },
  {
   "cell_type": "markdown",
   "metadata": {},
   "source": [
    "No missing value"
   ]
  },
  {
   "cell_type": "code",
   "execution_count": 216,
   "metadata": {},
   "outputs": [],
   "source": [
    "for i in dataset.columns.values:\n",
    "    if dataset[i].isnull().sum() > 0:\n",
    "        print(i)\n",
    "        print(dataset[i].isnull().sum())\n",
    "        print(dataset[i].notna().sum())"
   ]
  },
  {
   "cell_type": "code",
   "execution_count": 217,
   "metadata": {},
   "outputs": [
    {
     "data": {
      "text/plain": [
       "Index(['Favorite Color', 'Favorite Music Genre', 'Favorite Soft Drink',\n",
       "       'Gender'],\n",
       "      dtype='object')"
      ]
     },
     "execution_count": 217,
     "metadata": {},
     "output_type": "execute_result"
    }
   ],
   "source": [
    "dataset.columns"
   ]
  },
  {
   "cell_type": "code",
   "execution_count": 218,
   "metadata": {},
   "outputs": [],
   "source": [
    "r = len(dataset.index)"
   ]
  },
  {
   "cell_type": "markdown",
   "metadata": {},
   "source": [
    "Obtain 2 clusters\n",
    "- it is outcome of algorithm in this link : https://www.analyticsvidhya.com/blog/2021/06/kmodes-clustering-algorithm-for-categorical-data/"
   ]
  },
  {
   "cell_type": "code",
   "execution_count": 219,
   "metadata": {},
   "outputs": [
    {
     "name": "stdout",
     "output_type": "stream",
     "text": [
      "[array([2, 4, 2], dtype=object), array([0, 6, 1], dtype=object)]\n"
     ]
    }
   ],
   "source": [
    "from statistics import multimode\n",
    "from sklearn.preprocessing import LabelEncoder\n",
    "\n",
    "xx = dataset.iloc[:, :-1].values\n",
    "\n",
    "s = set()\n",
    "clusternum = 2\n",
    "columnlen = len(dataset.columns)-1\n",
    "random.seed(98)\n",
    "while(len(s)<clusternum):\n",
    "    s.add(random.randint(0,r))\n",
    "\n",
    "for i in range(columnlen):\n",
    "    le = LabelEncoder()\n",
    "    xx[:,i] = le.fit_transform(xx[:,i])\n",
    "\n",
    "clusters = []\n",
    "res = []\n",
    "tmp = []\n",
    "for i in range(clusternum):\n",
    "    tmp.append(0)\n",
    "tmp.append(-1)\n",
    "\n",
    "for j in range(r):\n",
    "    res.append(copy.deepcopy(tmp))\n",
    "    \n",
    "for i in s:\n",
    "    clusters.append(xx[i])\n",
    "\n",
    "change = 1\n",
    "while(change == 1):\n",
    "    change = 0\n",
    "    \n",
    "    for i in range(r):\n",
    "        for c in range(clusternum):\n",
    "            res[i][c] = 0\n",
    "    \n",
    "    for i in range(r):\n",
    "        for c in range(clusternum):\n",
    "            for j in range(columnlen):\n",
    "                if xx[i][j] != clusters[c][j]:\n",
    "                    res[i][c] += 1\n",
    "    \n",
    "    for i in range(r):\n",
    "        min_v = res[i][0]\n",
    "        cluster = 0\n",
    "        for j in range(clusternum):\n",
    "            if min_v > res[i][j]:\n",
    "                min_v = res[i][j]\n",
    "                cluster = j\n",
    "        if res[i][-1] != cluster:\n",
    "            res[i][-1] = cluster\n",
    "            change = 1\n",
    "    \n",
    "    c_modes = []\n",
    "    for i in range(clusternum):\n",
    "        c_modes.append([])\n",
    "\n",
    "    for i in range(r):\n",
    "       c_modes[res[i][-1]].append(xx[i])\n",
    "\n",
    "    for i in range(clusternum):\n",
    "        for j in range(columnlen):\n",
    "            tmp = []\n",
    "            for z in c_modes[i]:\n",
    "                tmp.append(z[j])\n",
    "            clusters[i][j] = random.choice(multimode(tmp))\n",
    "\n",
    "print(clusters)\n"
   ]
  },
  {
   "cell_type": "markdown",
   "metadata": {},
   "source": [
    "Evaluate with Davies_Bouldin_score ( not very good cluster )"
   ]
  },
  {
   "cell_type": "code",
   "execution_count": 220,
   "metadata": {},
   "outputs": [
    {
     "data": {
      "text/plain": [
       "2.4425339262870507"
      ]
     },
     "execution_count": 220,
     "metadata": {},
     "output_type": "execute_result"
    }
   ],
   "source": [
    "metrics.davies_bouldin_score(xx, [i[2] for i in res])"
   ]
  },
  {
   "cell_type": "markdown",
   "metadata": {},
   "source": [
    "Evaluate with Davies_Bouldin_score ( overlapping cluster )"
   ]
  },
  {
   "cell_type": "code",
   "execution_count": 221,
   "metadata": {},
   "outputs": [
    {
     "data": {
      "text/plain": [
       "0.14054279298288602"
      ]
     },
     "execution_count": 221,
     "metadata": {},
     "output_type": "execute_result"
    }
   ],
   "source": [
    "metrics.silhouette_score(xx,[i[2] for i in res])"
   ]
  },
  {
   "cell_type": "markdown",
   "metadata": {},
   "source": [
    "Plot for 2 cluster\n",
    "- there is no relation between 2 clusters and gender\n",
    "- clusters are shown by circle and square\n",
    "- gender is shown by red for male and blure for female"
   ]
  },
  {
   "cell_type": "code",
   "execution_count": 222,
   "metadata": {},
   "outputs": [
    {
     "data": {
      "text/plain": [
       "'6DPlot.html'"
      ]
     },
     "execution_count": 222,
     "metadata": {},
     "output_type": "execute_result"
    }
   ],
   "source": [
    "# Favorite Color\tFavorite Music Genre\tFavorite Soft Drink\tGender\n",
    "markercolor = dataset['Gender'].replace(\"M\",\"red\").replace(\"F\",\"blue\")\n",
    "\n",
    "markershape = []\n",
    "for i in res:\n",
    "    if i[2] == 1:\n",
    "        markershape.append('circle')\n",
    "    else:\n",
    "        markershape.append('square')\n",
    "#Make Plotly figure\n",
    "fig1 = go.Scatter3d(x=dataset['Favorite Color'],\n",
    "                    y=dataset['Favorite Music Genre'],\n",
    "                    z=dataset['Favorite Soft Drink'],\n",
    "                    marker=dict(color=markercolor,\n",
    "                                symbol = markershape,\n",
    "                                \n",
    "                                opacity=0.9,\n",
    "                                reversescale=True,\n",
    "                                colorscale='Blues'),\n",
    "                    line=dict (width=0.02),\n",
    "                    mode='markers')\n",
    "\n",
    "#Make Plot.ly Layout\n",
    "mylayout = go.Layout(scene=dict(xaxis=dict( title=\"Favorite Color\"),\n",
    "                                yaxis=dict( title=\"Favorite Music Genre\"),\n",
    "                                zaxis=dict(title=\"Favorite Soft Drink\")),)\n",
    "\n",
    "#Plot and save html\n",
    "plotly.offline.plot({\"data\": [fig1],\n",
    "                     \"layout\": mylayout},\n",
    "                     auto_open=True,\n",
    "                     filename=(\"6DPlot.html\"))"
   ]
  },
  {
   "cell_type": "code",
   "execution_count": 223,
   "metadata": {},
   "outputs": [],
   "source": [
    "dataset = pd.read_csv('Data/Q2.csv')\n",
    "dataset['Favorite Color'] = dataset['Favorite Color'].replace(\"Cool\", 1).replace(\"Neutral\", 2).replace(\"Warm\", 3)"
   ]
  },
  {
   "cell_type": "code",
   "execution_count": 224,
   "metadata": {},
   "outputs": [
    {
     "data": {
      "text/html": [
       "<div>\n",
       "<style scoped>\n",
       "    .dataframe tbody tr th:only-of-type {\n",
       "        vertical-align: middle;\n",
       "    }\n",
       "\n",
       "    .dataframe tbody tr th {\n",
       "        vertical-align: top;\n",
       "    }\n",
       "\n",
       "    .dataframe thead th {\n",
       "        text-align: right;\n",
       "    }\n",
       "</style>\n",
       "<table border=\"1\" class=\"dataframe\">\n",
       "  <thead>\n",
       "    <tr style=\"text-align: right;\">\n",
       "      <th></th>\n",
       "      <th>Favorite Color</th>\n",
       "      <th>Favorite Music Genre</th>\n",
       "      <th>Favorite Soft Drink</th>\n",
       "      <th>Gender</th>\n",
       "    </tr>\n",
       "  </thead>\n",
       "  <tbody>\n",
       "    <tr>\n",
       "      <th>0</th>\n",
       "      <td>1</td>\n",
       "      <td>Rock</td>\n",
       "      <td>7UP/Sprite</td>\n",
       "      <td>F</td>\n",
       "    </tr>\n",
       "    <tr>\n",
       "      <th>1</th>\n",
       "      <td>2</td>\n",
       "      <td>Hip hop</td>\n",
       "      <td>Coca Cola/Pepsi</td>\n",
       "      <td>F</td>\n",
       "    </tr>\n",
       "    <tr>\n",
       "      <th>2</th>\n",
       "      <td>3</td>\n",
       "      <td>Rock</td>\n",
       "      <td>Coca Cola/Pepsi</td>\n",
       "      <td>F</td>\n",
       "    </tr>\n",
       "    <tr>\n",
       "      <th>3</th>\n",
       "      <td>3</td>\n",
       "      <td>Folk/Traditional</td>\n",
       "      <td>Fanta</td>\n",
       "      <td>F</td>\n",
       "    </tr>\n",
       "    <tr>\n",
       "      <th>4</th>\n",
       "      <td>1</td>\n",
       "      <td>Rock</td>\n",
       "      <td>Coca Cola/Pepsi</td>\n",
       "      <td>F</td>\n",
       "    </tr>\n",
       "    <tr>\n",
       "      <th>...</th>\n",
       "      <td>...</td>\n",
       "      <td>...</td>\n",
       "      <td>...</td>\n",
       "      <td>...</td>\n",
       "    </tr>\n",
       "    <tr>\n",
       "      <th>61</th>\n",
       "      <td>1</td>\n",
       "      <td>Rock</td>\n",
       "      <td>Coca Cola/Pepsi</td>\n",
       "      <td>M</td>\n",
       "    </tr>\n",
       "    <tr>\n",
       "      <th>62</th>\n",
       "      <td>1</td>\n",
       "      <td>Hip hop</td>\n",
       "      <td>Coca Cola/Pepsi</td>\n",
       "      <td>M</td>\n",
       "    </tr>\n",
       "    <tr>\n",
       "      <th>63</th>\n",
       "      <td>2</td>\n",
       "      <td>Hip hop</td>\n",
       "      <td>Fanta</td>\n",
       "      <td>M</td>\n",
       "    </tr>\n",
       "    <tr>\n",
       "      <th>64</th>\n",
       "      <td>1</td>\n",
       "      <td>Rock</td>\n",
       "      <td>Coca Cola/Pepsi</td>\n",
       "      <td>M</td>\n",
       "    </tr>\n",
       "    <tr>\n",
       "      <th>65</th>\n",
       "      <td>1</td>\n",
       "      <td>Electronic</td>\n",
       "      <td>Coca Cola/Pepsi</td>\n",
       "      <td>M</td>\n",
       "    </tr>\n",
       "  </tbody>\n",
       "</table>\n",
       "<p>66 rows × 4 columns</p>\n",
       "</div>"
      ],
      "text/plain": [
       "    Favorite Color Favorite Music Genre Favorite Soft Drink Gender\n",
       "0                1                 Rock          7UP/Sprite      F\n",
       "1                2              Hip hop     Coca Cola/Pepsi      F\n",
       "2                3                 Rock     Coca Cola/Pepsi      F\n",
       "3                3     Folk/Traditional               Fanta      F\n",
       "4                1                 Rock     Coca Cola/Pepsi      F\n",
       "..             ...                  ...                 ...    ...\n",
       "61               1                 Rock     Coca Cola/Pepsi      M\n",
       "62               1              Hip hop     Coca Cola/Pepsi      M\n",
       "63               2              Hip hop               Fanta      M\n",
       "64               1                 Rock     Coca Cola/Pepsi      M\n",
       "65               1           Electronic     Coca Cola/Pepsi      M\n",
       "\n",
       "[66 rows x 4 columns]"
      ]
     },
     "execution_count": 224,
     "metadata": {},
     "output_type": "execute_result"
    }
   ],
   "source": [
    "dataset"
   ]
  },
  {
   "cell_type": "code",
   "execution_count": 225,
   "metadata": {},
   "outputs": [],
   "source": [
    "x = dataset.iloc[:, :].values"
   ]
  },
  {
   "cell_type": "code",
   "execution_count": 226,
   "metadata": {},
   "outputs": [
    {
     "name": "stdout",
     "output_type": "stream",
     "text": [
      "[[1 'Rock' '7UP/Sprite' 'F']\n",
      " [2 'Hip hop' 'Coca Cola/Pepsi' 'F']\n",
      " [3 'Rock' 'Coca Cola/Pepsi' 'F']\n",
      " [3 'Folk/Traditional' 'Fanta' 'F']\n",
      " [1 'Rock' 'Coca Cola/Pepsi' 'F']\n",
      " [3 'Jazz/Blues' 'Fanta' 'F']\n",
      " [1 'Pop' 'Coca Cola/Pepsi' 'F']\n",
      " [3 'Pop' 'Fanta' 'F']\n",
      " [3 'Rock' '7UP/Sprite' 'F']\n",
      " [2 'Pop' 'Coca Cola/Pepsi' 'F']\n",
      " [1 'Pop' '7UP/Sprite' 'F']\n",
      " [3 'Pop' '7UP/Sprite' 'F']\n",
      " [3 'Pop' '7UP/Sprite' 'F']\n",
      " [3 'Electronic' 'Coca Cola/Pepsi' 'F']\n",
      " [1 'Rock' 'Coca Cola/Pepsi' 'F']\n",
      " [3 'Jazz/Blues' 'Coca Cola/Pepsi' 'F']\n",
      " [1 'Pop' '7UP/Sprite' 'F']\n",
      " [1 'Rock' 'Coca Cola/Pepsi' 'F']\n",
      " [1 'Rock' 'Coca Cola/Pepsi' 'F']\n",
      " [1 'Pop' '7UP/Sprite' 'F']\n",
      " [1 'Pop' 'Fanta' 'F']\n",
      " [3 'Jazz/Blues' 'Fanta' 'F']\n",
      " [1 'Rock' 'Coca Cola/Pepsi' 'F']\n",
      " [3 'Pop' 'Coca Cola/Pepsi' 'F']\n",
      " [1 'Folk/Traditional' '7UP/Sprite' 'F']\n",
      " [3 'R&B and soul' 'Coca Cola/Pepsi' 'F']\n",
      " [1 'Pop' 'Other' 'F']\n",
      " [1 'Pop' 'Other' 'F']\n",
      " [1 'Pop' 'Coca Cola/Pepsi' 'F']\n",
      " [1 'Electronic' 'Fanta' 'F']\n",
      " [3 'Rock' 'Coca Cola/Pepsi' 'F']\n",
      " [2 'Rock' 'Coca Cola/Pepsi' 'F']\n",
      " [1 'R&B and soul' 'Coca Cola/Pepsi' 'F']\n",
      " [3 'R&B and soul' 'Other' 'M']\n",
      " [2 'Hip hop' '7UP/Sprite' 'M']\n",
      " [3 'Electronic' 'Coca Cola/Pepsi' 'M']\n",
      " [2 'Rock' 'Coca Cola/Pepsi' 'M']\n",
      " [1 'Pop' 'Fanta' 'M']\n",
      " [1 'Pop' 'Fanta' 'M']\n",
      " [3 'Rock' '7UP/Sprite' 'M']\n",
      " [1 'Rock' 'Coca Cola/Pepsi' 'M']\n",
      " [2 'Pop' '7UP/Sprite' 'M']\n",
      " [3 'R&B and soul' 'Coca Cola/Pepsi' 'M']\n",
      " [1 'Rock' '7UP/Sprite' 'M']\n",
      " [1 'Folk/Traditional' 'Other' 'M']\n",
      " [1 'Hip hop' 'Coca Cola/Pepsi' 'M']\n",
      " [1 'Hip hop' 'Coca Cola/Pepsi' 'M']\n",
      " [1 'R&B and soul' '7UP/Sprite' 'M']\n",
      " [1 'Rock' 'Other' 'M']\n",
      " [3 'Hip hop' 'Coca Cola/Pepsi' 'M']\n",
      " [1 'R&B and soul' 'Coca Cola/Pepsi' 'M']\n",
      " [1 'Rock' 'Coca Cola/Pepsi' 'M']\n",
      " [1 'Hip hop' 'Other' 'M']\n",
      " [3 'Rock' 'Fanta' 'M']\n",
      " [1 'Electronic' 'Fanta' 'M']\n",
      " [1 'Electronic' 'Fanta' 'M']\n",
      " [3 'Folk/Traditional' 'Fanta' 'M']\n",
      " [3 'Electronic' 'Fanta' 'M']\n",
      " [3 'Jazz/Blues' 'Coca Cola/Pepsi' 'M']\n",
      " [1 'Pop' 'Other' 'M']\n",
      " [1 'Electronic' 'Coca Cola/Pepsi' 'M']\n",
      " [1 'Rock' 'Coca Cola/Pepsi' 'M']\n",
      " [1 'Hip hop' 'Coca Cola/Pepsi' 'M']\n",
      " [2 'Hip hop' 'Fanta' 'M']\n",
      " [1 'Rock' 'Coca Cola/Pepsi' 'M']\n",
      " [1 'Electronic' 'Coca Cola/Pepsi' 'M']]\n"
     ]
    }
   ],
   "source": [
    "print(x)"
   ]
  },
  {
   "cell_type": "code",
   "execution_count": 227,
   "metadata": {},
   "outputs": [
    {
     "name": "stdout",
     "output_type": "stream",
     "text": [
      "[[0.0 0.0 0.0 0.0 0.0 0.0 1.0 1.0 0.0 0.0 0.0 1.0 0.0 1]\n",
      " [0.0 0.0 1.0 0.0 0.0 0.0 0.0 0.0 1.0 0.0 0.0 1.0 0.0 2]\n",
      " [0.0 0.0 0.0 0.0 0.0 0.0 1.0 0.0 1.0 0.0 0.0 1.0 0.0 3]\n",
      " [0.0 1.0 0.0 0.0 0.0 0.0 0.0 0.0 0.0 1.0 0.0 1.0 0.0 3]\n",
      " [0.0 0.0 0.0 0.0 0.0 0.0 1.0 0.0 1.0 0.0 0.0 1.0 0.0 1]\n",
      " [0.0 0.0 0.0 1.0 0.0 0.0 0.0 0.0 0.0 1.0 0.0 1.0 0.0 3]\n",
      " [0.0 0.0 0.0 0.0 1.0 0.0 0.0 0.0 1.0 0.0 0.0 1.0 0.0 1]\n",
      " [0.0 0.0 0.0 0.0 1.0 0.0 0.0 0.0 0.0 1.0 0.0 1.0 0.0 3]\n",
      " [0.0 0.0 0.0 0.0 0.0 0.0 1.0 1.0 0.0 0.0 0.0 1.0 0.0 3]\n",
      " [0.0 0.0 0.0 0.0 1.0 0.0 0.0 0.0 1.0 0.0 0.0 1.0 0.0 2]\n",
      " [0.0 0.0 0.0 0.0 1.0 0.0 0.0 1.0 0.0 0.0 0.0 1.0 0.0 1]\n",
      " [0.0 0.0 0.0 0.0 1.0 0.0 0.0 1.0 0.0 0.0 0.0 1.0 0.0 3]\n",
      " [0.0 0.0 0.0 0.0 1.0 0.0 0.0 1.0 0.0 0.0 0.0 1.0 0.0 3]\n",
      " [1.0 0.0 0.0 0.0 0.0 0.0 0.0 0.0 1.0 0.0 0.0 1.0 0.0 3]\n",
      " [0.0 0.0 0.0 0.0 0.0 0.0 1.0 0.0 1.0 0.0 0.0 1.0 0.0 1]\n",
      " [0.0 0.0 0.0 1.0 0.0 0.0 0.0 0.0 1.0 0.0 0.0 1.0 0.0 3]\n",
      " [0.0 0.0 0.0 0.0 1.0 0.0 0.0 1.0 0.0 0.0 0.0 1.0 0.0 1]\n",
      " [0.0 0.0 0.0 0.0 0.0 0.0 1.0 0.0 1.0 0.0 0.0 1.0 0.0 1]\n",
      " [0.0 0.0 0.0 0.0 0.0 0.0 1.0 0.0 1.0 0.0 0.0 1.0 0.0 1]\n",
      " [0.0 0.0 0.0 0.0 1.0 0.0 0.0 1.0 0.0 0.0 0.0 1.0 0.0 1]\n",
      " [0.0 0.0 0.0 0.0 1.0 0.0 0.0 0.0 0.0 1.0 0.0 1.0 0.0 1]\n",
      " [0.0 0.0 0.0 1.0 0.0 0.0 0.0 0.0 0.0 1.0 0.0 1.0 0.0 3]\n",
      " [0.0 0.0 0.0 0.0 0.0 0.0 1.0 0.0 1.0 0.0 0.0 1.0 0.0 1]\n",
      " [0.0 0.0 0.0 0.0 1.0 0.0 0.0 0.0 1.0 0.0 0.0 1.0 0.0 3]\n",
      " [0.0 1.0 0.0 0.0 0.0 0.0 0.0 1.0 0.0 0.0 0.0 1.0 0.0 1]\n",
      " [0.0 0.0 0.0 0.0 0.0 1.0 0.0 0.0 1.0 0.0 0.0 1.0 0.0 3]\n",
      " [0.0 0.0 0.0 0.0 1.0 0.0 0.0 0.0 0.0 0.0 1.0 1.0 0.0 1]\n",
      " [0.0 0.0 0.0 0.0 1.0 0.0 0.0 0.0 0.0 0.0 1.0 1.0 0.0 1]\n",
      " [0.0 0.0 0.0 0.0 1.0 0.0 0.0 0.0 1.0 0.0 0.0 1.0 0.0 1]\n",
      " [1.0 0.0 0.0 0.0 0.0 0.0 0.0 0.0 0.0 1.0 0.0 1.0 0.0 1]\n",
      " [0.0 0.0 0.0 0.0 0.0 0.0 1.0 0.0 1.0 0.0 0.0 1.0 0.0 3]\n",
      " [0.0 0.0 0.0 0.0 0.0 0.0 1.0 0.0 1.0 0.0 0.0 1.0 0.0 2]\n",
      " [0.0 0.0 0.0 0.0 0.0 1.0 0.0 0.0 1.0 0.0 0.0 1.0 0.0 1]\n",
      " [0.0 0.0 0.0 0.0 0.0 1.0 0.0 0.0 0.0 0.0 1.0 0.0 1.0 3]\n",
      " [0.0 0.0 1.0 0.0 0.0 0.0 0.0 1.0 0.0 0.0 0.0 0.0 1.0 2]\n",
      " [1.0 0.0 0.0 0.0 0.0 0.0 0.0 0.0 1.0 0.0 0.0 0.0 1.0 3]\n",
      " [0.0 0.0 0.0 0.0 0.0 0.0 1.0 0.0 1.0 0.0 0.0 0.0 1.0 2]\n",
      " [0.0 0.0 0.0 0.0 1.0 0.0 0.0 0.0 0.0 1.0 0.0 0.0 1.0 1]\n",
      " [0.0 0.0 0.0 0.0 1.0 0.0 0.0 0.0 0.0 1.0 0.0 0.0 1.0 1]\n",
      " [0.0 0.0 0.0 0.0 0.0 0.0 1.0 1.0 0.0 0.0 0.0 0.0 1.0 3]\n",
      " [0.0 0.0 0.0 0.0 0.0 0.0 1.0 0.0 1.0 0.0 0.0 0.0 1.0 1]\n",
      " [0.0 0.0 0.0 0.0 1.0 0.0 0.0 1.0 0.0 0.0 0.0 0.0 1.0 2]\n",
      " [0.0 0.0 0.0 0.0 0.0 1.0 0.0 0.0 1.0 0.0 0.0 0.0 1.0 3]\n",
      " [0.0 0.0 0.0 0.0 0.0 0.0 1.0 1.0 0.0 0.0 0.0 0.0 1.0 1]\n",
      " [0.0 1.0 0.0 0.0 0.0 0.0 0.0 0.0 0.0 0.0 1.0 0.0 1.0 1]\n",
      " [0.0 0.0 1.0 0.0 0.0 0.0 0.0 0.0 1.0 0.0 0.0 0.0 1.0 1]\n",
      " [0.0 0.0 1.0 0.0 0.0 0.0 0.0 0.0 1.0 0.0 0.0 0.0 1.0 1]\n",
      " [0.0 0.0 0.0 0.0 0.0 1.0 0.0 1.0 0.0 0.0 0.0 0.0 1.0 1]\n",
      " [0.0 0.0 0.0 0.0 0.0 0.0 1.0 0.0 0.0 0.0 1.0 0.0 1.0 1]\n",
      " [0.0 0.0 1.0 0.0 0.0 0.0 0.0 0.0 1.0 0.0 0.0 0.0 1.0 3]\n",
      " [0.0 0.0 0.0 0.0 0.0 1.0 0.0 0.0 1.0 0.0 0.0 0.0 1.0 1]\n",
      " [0.0 0.0 0.0 0.0 0.0 0.0 1.0 0.0 1.0 0.0 0.0 0.0 1.0 1]\n",
      " [0.0 0.0 1.0 0.0 0.0 0.0 0.0 0.0 0.0 0.0 1.0 0.0 1.0 1]\n",
      " [0.0 0.0 0.0 0.0 0.0 0.0 1.0 0.0 0.0 1.0 0.0 0.0 1.0 3]\n",
      " [1.0 0.0 0.0 0.0 0.0 0.0 0.0 0.0 0.0 1.0 0.0 0.0 1.0 1]\n",
      " [1.0 0.0 0.0 0.0 0.0 0.0 0.0 0.0 0.0 1.0 0.0 0.0 1.0 1]\n",
      " [0.0 1.0 0.0 0.0 0.0 0.0 0.0 0.0 0.0 1.0 0.0 0.0 1.0 3]\n",
      " [1.0 0.0 0.0 0.0 0.0 0.0 0.0 0.0 0.0 1.0 0.0 0.0 1.0 3]\n",
      " [0.0 0.0 0.0 1.0 0.0 0.0 0.0 0.0 1.0 0.0 0.0 0.0 1.0 3]\n",
      " [0.0 0.0 0.0 0.0 1.0 0.0 0.0 0.0 0.0 0.0 1.0 0.0 1.0 1]\n",
      " [1.0 0.0 0.0 0.0 0.0 0.0 0.0 0.0 1.0 0.0 0.0 0.0 1.0 1]\n",
      " [0.0 0.0 0.0 0.0 0.0 0.0 1.0 0.0 1.0 0.0 0.0 0.0 1.0 1]\n",
      " [0.0 0.0 1.0 0.0 0.0 0.0 0.0 0.0 1.0 0.0 0.0 0.0 1.0 1]\n",
      " [0.0 0.0 1.0 0.0 0.0 0.0 0.0 0.0 0.0 1.0 0.0 0.0 1.0 2]\n",
      " [0.0 0.0 0.0 0.0 0.0 0.0 1.0 0.0 1.0 0.0 0.0 0.0 1.0 1]\n",
      " [1.0 0.0 0.0 0.0 0.0 0.0 0.0 0.0 1.0 0.0 0.0 0.0 1.0 1]]\n"
     ]
    }
   ],
   "source": [
    "from sklearn.compose import ColumnTransformer\n",
    "from sklearn.preprocessing import OneHotEncoder\n",
    "ct = ColumnTransformer(transformers=[('encoder', OneHotEncoder(sparse= False), [1,2,3])], remainder='passthrough')\n",
    "x = np.array(ct.fit_transform(x))\n",
    "np.set_printoptions(threshold = np.inf)\n",
    "print(x)"
   ]
  },
  {
   "cell_type": "markdown",
   "metadata": {},
   "source": [
    "From elbow method we can say 2 or 3 is good cz its slope decreasing is very low, if we consider clusters 2 high change in slope should choose 3 otherwise it is 2\n",
    "- Didn't give us good answer, let use silhouette_score and davies_bouldin_score"
   ]
  },
  {
   "cell_type": "code",
   "execution_count": 228,
   "metadata": {},
   "outputs": [
    {
     "data": {
      "image/png": "[encoded data removed]",
      "text/plain": [
       "<Figure size 432x288 with 1 Axes>"
      ]
     },
     "metadata": {
      "needs_background": "light"
     },
     "output_type": "display_data"
    }
   ],
   "source": [
    "from sklearn.cluster import KMeans\n",
    "wcss = []\n",
    "for i in range(1, 11):\n",
    "    kmeans = KMeans(n_clusters = i, init = 'k-means++', random_state = 98)\n",
    "    kmeans.fit(x)\n",
    "    wcss.append(kmeans.inertia_)\n",
    "plt.plot(range(1, 11), wcss)\n",
    "plt.title('The Elbow Method')\n",
    "plt.xlabel('Number of clusters')\n",
    "plt.ylabel('WCSS')\n",
    "plt.show()"
   ]
  },
  {
   "cell_type": "markdown",
   "metadata": {},
   "source": [
    "Combining elbow with silhouette and davies_bouldin_score\n",
    "- silhouette tells us how cluster is compact ( bigger better )\n",
    "- davies tells us how cluster close to each other ( lower netter )\n",
    "* we choose 2 from 2 and 3, better silhouette and similar davies bouldin"
   ]
  },
  {
   "cell_type": "code",
   "execution_count": 229,
   "metadata": {},
   "outputs": [
    {
     "data": {
      "image/png": "[encoded data removed]",
      "text/plain": [
       "<Figure size 432x288 with 2 Axes>"
      ]
     },
     "metadata": {
      "needs_background": "light"
     },
     "output_type": "display_data"
    }
   ],
   "source": [
    "silhouette = []\n",
    "davis = []\n",
    "for i in range(2, 11):\n",
    "    kmeans = KMeans(n_clusters = i, init = 'k-means++', random_state = 98)\n",
    "    y_kmeans = kmeans.fit_predict(x)\n",
    "    silhouette.append(metrics.silhouette_score(x, y_kmeans))\n",
    "    davis.append(metrics.davies_bouldin_score(x, y_kmeans))\n",
    "fig, axs = plt.subplots(2)\n",
    "axs[0].plot(range(2, 11), silhouette, color='r', label='Silhouette score')\n",
    "axs[1].plot(range(2, 11), davis, color='g', label='Davies boulding score')\n",
    "axs[0].set_title('Silhouette score')\n",
    "axs[1].set_title('Davies boulding score')\n",
    "for ax in axs.flat:\n",
    "    ax.set(xlabel='Number of clusters', ylabel='score')\n",
    "    ax.label_outer()\n",
    "plt.show()"
   ]
  },
  {
   "cell_type": "markdown",
   "metadata": {},
   "source": [
    "As we obtain from silhouette n = 2"
   ]
  },
  {
   "cell_type": "code",
   "execution_count": 230,
   "metadata": {},
   "outputs": [],
   "source": [
    "kmeans = KMeans(n_clusters = 2, init = 'k-means++', random_state = 98)\n",
    "y_kmeans = kmeans.fit_predict(x)"
   ]
  },
  {
   "cell_type": "code",
   "execution_count": 231,
   "metadata": {},
   "outputs": [
    {
     "data": {
      "text/plain": [
       "array([1, 0, 0, 0, 1, 0, 1, 0, 0, 0, 1, 0, 0, 0, 1, 0, 1, 1, 1, 1, 1, 0,\n",
       "       1, 0, 1, 0, 1, 1, 1, 1, 0, 0, 1, 0, 1, 0, 1, 1, 1, 0, 1, 1, 0, 1,\n",
       "       1, 1, 1, 1, 1, 0, 1, 1, 1, 0, 1, 1, 0, 0, 0, 1, 1, 1, 1, 1, 1, 1])"
      ]
     },
     "execution_count": 231,
     "metadata": {},
     "output_type": "execute_result"
    }
   ],
   "source": [
    "y_kmeans"
   ]
  },
  {
   "cell_type": "markdown",
   "metadata": {},
   "source": [
    "Evaluate with davies_bouldin_score and silhouette_score"
   ]
  },
  {
   "cell_type": "code",
   "execution_count": 232,
   "metadata": {},
   "outputs": [
    {
     "data": {
      "text/plain": [
       "1.545628471254768"
      ]
     },
     "execution_count": 232,
     "metadata": {},
     "output_type": "execute_result"
    }
   ],
   "source": [
    "metrics.davies_bouldin_score(x, y_kmeans)"
   ]
  },
  {
   "cell_type": "code",
   "execution_count": 233,
   "metadata": {},
   "outputs": [
    {
     "data": {
      "text/plain": [
       "0.25741634488725806"
      ]
     },
     "execution_count": 233,
     "metadata": {},
     "output_type": "execute_result"
    }
   ],
   "source": [
    "metrics.silhouette_score(x, y_kmeans)"
   ]
  },
  {
   "cell_type": "markdown",
   "metadata": {},
   "source": [
    "Show the result of clustering with 3D plot which clusters are seperated by shape"
   ]
  },
  {
   "cell_type": "code",
   "execution_count": 235,
   "metadata": {},
   "outputs": [
    {
     "data": {
      "text/plain": [
       "'6DPlot.html'"
      ]
     },
     "execution_count": 235,
     "metadata": {},
     "output_type": "execute_result"
    }
   ],
   "source": [
    "dataset['Favorite Color'] = dataset['Favorite Color'].replace(1, \"Cool\").replace(2, \"Neutral\").replace(3, \"Warm\")\n",
    "markercolor = dataset['Gender'].replace(\"M\",\"red\").replace(\"F\",\"blue\")\n",
    "\n",
    "markershape = []\n",
    "for i in y_kmeans:\n",
    "    if i == 1:\n",
    "        markershape.append('circle')\n",
    "    else:\n",
    "        markershape.append('square')\n",
    "#Make Plotly figure\n",
    "fig1 = go.Scatter3d(x=dataset['Favorite Color'],\n",
    "                    y=dataset['Favorite Music Genre'],\n",
    "                    z=dataset['Favorite Soft Drink'],\n",
    "                    marker=dict(color=markercolor,\n",
    "                                symbol = markershape,\n",
    "                                \n",
    "                                opacity=0.9,\n",
    "                                reversescale=True,\n",
    "                                colorscale='Blues'),\n",
    "                    line=dict (width=0.02),\n",
    "                    mode='markers')\n",
    "\n",
    "#Make Plot.ly Layout\n",
    "mylayout = go.Layout(scene=dict(xaxis=dict( title=\"Favorite Color\"),\n",
    "                                yaxis=dict( title=\"Favorite Music Genre\"),\n",
    "                                zaxis=dict(title=\"Favorite Soft Drink\")),)\n",
    "\n",
    "#Plot and save html\n",
    "plotly.offline.plot({\"data\": [fig1],\n",
    "                     \"layout\": mylayout},\n",
    "                     auto_open=True,\n",
    "                     filename=(\"6DPlot.html\"))"
   ]
  }
 ],
 "metadata": {
  "interpreter": {
   "hash": "ac59ebe37160ed0dfa835113d9b8498d9f09ceb179beaac4002f036b9467c963"
  },
  "kernelspec": {
   "display_name": "Python 3.9.2 64-bit",
   "language": "python",
   "name": "python3"
  },
  "language_info": {
   "codemirror_mode": {
    "name": "ipython",
    "version": 3
   },
   "file_extension": ".py",
   "mimetype": "text/x-python",
   "name": "python",
   "nbconvert_exporter": "python",
   "pygments_lexer": "ipython3",
   "version": "3.9.2"
  },
  "orig_nbformat": 4
 },
 "nbformat": 4,
 "nbformat_minor": 2
}
